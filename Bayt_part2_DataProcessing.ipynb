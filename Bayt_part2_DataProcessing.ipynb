{
 "cells": [
  {
   "cell_type": "markdown",
   "metadata": {},
   "source": [
    "# Bayt, Part 2 - Data Processing & Results Display"
   ]
  },
  {
   "cell_type": "markdown",
   "metadata": {},
   "source": [
    "Project by Lama Kaysi and Varun Hebbar\n",
    "\n",
    "This part of the project uses the excel sheet created in part 1. It asks the user to rate a number of criteria about homes that are important to them, then processes and displays the information."
   ]
  },
  {
   "cell_type": "code",
   "execution_count": 1,
   "metadata": {
    "collapsed": true
   },
   "outputs": [],
   "source": [
    "import pandas as pd\n",
    "from pandas import DataFrame, Series\n",
    "import numpy as np\n",
    "import matplotlib.pyplot as plt\n",
    "from scipy import stats\n",
    "from tkinter import *\n",
    "import folium\n",
    "import seaborn as sns"
   ]
  },
  {
   "cell_type": "code",
   "execution_count": 2,
   "metadata": {
    "collapsed": true
   },
   "outputs": [],
   "source": [
    "%matplotlib inline"
   ]
  },
  {
   "cell_type": "markdown",
   "metadata": {},
   "source": [
    "## Getting User Inputs"
   ]
  },
  {
   "cell_type": "markdown",
   "metadata": {},
   "source": [
    "This part of the code gets the user to provide ratings on a scale of 0 to 5 on all of the following criteria:\n",
    "1. walk score\n",
    "2. transit score\n",
    "3. bike score\n",
    "4. noise level\n",
    "5. livability\n",
    "6. amenities\n",
    "7. cost of living\n",
    "8. crime\n",
    "9. education\n",
    "10. employment\n",
    "11. housing\n",
    "12. weather"
   ]
  },
  {
   "cell_type": "markdown",
   "metadata": {},
   "source": [
    "The cell directly below this one is used to get the user inputs."
   ]
  },
  {
   "cell_type": "code",
   "execution_count": 3,
   "metadata": {},
   "outputs": [
    {
     "name": "stdout",
     "output_type": "stream",
     "text": [
      "Please rate following criteria on a scale of 0-5\n",
      "0 = not important\n",
      "5 = very important\n",
      "Walk Score: 4\n",
      "Transit Score: 5\n",
      "Bike Score: 3\n",
      "Noise Score: 0\n",
      "Livability0\n",
      "Amenities: 0\n",
      "Cost of living: 3\n",
      "Crime level: 1\n",
      "Education: 0\n",
      "Employment: 5\n",
      "Housing: 3\n",
      "Weather: 0\n"
     ]
    }
   ],
   "source": [
    "print('Please rate following criteria on a scale of 0-5')\n",
    "print('0 = not important')\n",
    "print('5 = very important')\n",
    "\n",
    "walklvl = input('Walk Score: ').strip()\n",
    "transitlvl = input('Transit Score: ').strip()\n",
    "bikelvl = input('Bike Score: ').strip()\n",
    "noiselvl = input('Noise Score: ').strip() \n",
    "livabilitylvl = input('Livability').strip()\n",
    "amenitieslvl = input('Amenities: ').strip()\n",
    "costoflivinglvl = input('Cost of living: ').strip()\n",
    "crimelvl = input('Crime level: ').strip()\n",
    "educationlvl = input('Education: ').strip()\n",
    "employmentlvl = input('Employment: ').strip()\n",
    "housinglvl = input('Housing: ').strip()\n",
    "weatherlvl = input('Weather: ').strip()\n",
    "\n"
   ]
  },
  {
   "cell_type": "markdown",
   "metadata": {},
   "source": [
    "For simplicity of demonstration and to make it quicker to run the code, we assume some values for the user input in the cell below."
   ]
  },
  {
   "cell_type": "code",
   "execution_count": 4,
   "metadata": {
    "collapsed": true
   },
   "outputs": [],
   "source": [
    "# Assuming some rating values\n",
    "\n",
    "walklvl = int(walklvl)\n",
    "transitlvl = int(transitlvl)\n",
    "bikelvl =int(bikelvl) \n",
    "noiselvl = int(noiselvl)\n",
    "livabilitylvl = int(livabilitylvl)\n",
    "amenitieslvl = int(amenitieslvl)\n",
    "costoflivinglvl = int(costoflivinglvl)\n",
    "crimelvl = int(crimelvl)\n",
    "educationlvl = int(educationlvl)\n",
    "employmentlvl = int(employmentlvl)\n",
    "housinglvl = int(housinglvl)\n",
    "weatherlvl = int(weatherlvl)\n",
    "\n",
    "# walklvl = 4\n",
    "# transitlvl = 0\n",
    "# bikelvl = 1 \n",
    "# noiselvl = 5 \n",
    "# livabilitylvl = 5\n",
    "# amenitieslvl = 2\n",
    "# costoflivinglvl = 4\n",
    "# crimelvl = 5\n",
    "# educationlvl = 0\n",
    "# employmentlvl = 2\n",
    "# housinglvl = 4\n",
    "# weatherlvl = 2\n",
    "\n",
    "dictlvl = {'walklvl': walklvl, 'transitlvl':transitlvl, 'bikelvl':bikelvl, 'noiselvl':noiselvl,\n",
    "          'livabilitylvl':livabilitylvl, 'amenitieslvl':amenitieslvl, 'costoflivinglvl':costoflivinglvl,\n",
    "          'crimelvl':crimelvl, 'educationlvl':educationlvl, 'employmentlvl':employmentlvl,\n",
    "          'housinglvl':housinglvl, 'weatherlvl':weatherlvl}\n"
   ]
  },
  {
   "cell_type": "markdown",
   "metadata": {},
   "source": [
    "## Processing the Data"
   ]
  },
  {
   "cell_type": "markdown",
   "metadata": {},
   "source": [
    "The method getDF() takes a filename as a parameter. This is assumed to be an Excel file.\n",
    "\n",
    "It returns a DataFrame based on the given file."
   ]
  },
  {
   "cell_type": "code",
   "execution_count": 5,
   "metadata": {
    "collapsed": true
   },
   "outputs": [],
   "source": [
    "#Creates a data frame out of an excel file\n",
    "\n",
    "def getDF(filename):\n",
    "    xl = pd.ExcelFile(filename)\n",
    "    df = xl.parse('listings_merge')\n",
    "    df = df.rename(columns={\"score\": \"noisescore\"})\n",
    "    return df"
   ]
  },
  {
   "cell_type": "markdown",
   "metadata": {},
   "source": [
    "The method prepDF() takes a dataframe as a parameter.\n",
    "\n",
    "It changes the columns with letter scores into number scores (out of 100).\n",
    "\n",
    "It then checks to see if any columns in the dataframe have a the same value for each row, or if they have NaN in each row. In this case, it will let the user know that this criterion did not impact the ratings."
   ]
  },
  {
   "cell_type": "code",
   "execution_count": 6,
   "metadata": {
    "collapsed": true
   },
   "outputs": [],
   "source": [
    "#Prepares the data\n",
    "\n",
    "def prepDF(df2):\n",
    "   \n",
    "    #Change letter grade columns to a score grade out of 100\n",
    "    lettercol = ['Amenities', 'Cost of Living', 'Crime', 'Education', 'Employment', 'Housing', 'Weather']\n",
    "    for index, row in df2.iterrows():\n",
    "        for col in lettercol:\n",
    "            if df2.at[index, col] == 'A+':\n",
    "                df2.at[index, col] = 100\n",
    "            elif df2.at[index, col] == 'A':\n",
    "                df2.at[index, col] = 96\n",
    "            elif df2.at[index, col] == 'A-':\n",
    "                df2.at[index, col] = 92\n",
    "            elif df2.at[index, col] == 'B+':\n",
    "                df2.at[index, col] = 89\n",
    "            elif df2.at[index, col] == 'B':\n",
    "                df2.at[index, col] = 86\n",
    "            elif df2.at[index, col] == 'B-':\n",
    "                df2.at[index, col] = 82\n",
    "            elif df2.at[index, col] == 'C+':\n",
    "                df2.at[index, col] = 79\n",
    "            elif df2.at[index, col] == 'C':\n",
    "                df2.at[index, col] = 76\n",
    "            elif df2.at[index, col] == 'C-':\n",
    "                df2.at[index, col] = 72\n",
    "            elif df2.at[index, col] == 'D+':\n",
    "                df2.at[index, col] = 67\n",
    "            elif df2.at[index, col] == 'D':\n",
    "                df2.at[index, col] = 66\n",
    "            elif df2.at[index, col] == 'D-':\n",
    "                df2.at[index, col] = 62\n",
    "            elif df2.at[index,col] == 'F':\n",
    "                df2.at[index, col] = 20\n",
    "    \n",
    "    #Check if all values in columns are the same\n",
    "    #If they are all the same, let user know they didn't impact ranking\n",
    "    allcol = ['url', 'walkscore', 'transitscore', 'bikescore', 'noisescore', 'Livability', 'Amenities', 'Cost of Living', 'Crime', 'Education', 'Employment', 'Housing', 'Weather']\n",
    "    for col in allcol:\n",
    "        uniques = df2[col].nunique()\n",
    "        if(uniques == 1 or df2[col].isnull().all()):\n",
    "            print('The value of the ' + col + ' did not impact the ranking. All values were: ' + str(df2.at[index, col]))\n",
    "            \n",
    "    return df2"
   ]
  },
  {
   "cell_type": "code",
   "execution_count": 7,
   "metadata": {
    "collapsed": true
   },
   "outputs": [],
   "source": [
    "filePitt = 'ApartmentsPitt.xlsx'\n",
    "full_pitt = getDF(filePitt)"
   ]
  },
  {
   "cell_type": "code",
   "execution_count": 8,
   "metadata": {},
   "outputs": [
    {
     "name": "stdout",
     "output_type": "stream",
     "text": [
      "The value of the transitscore did not impact the ranking. All values were: nan\n",
      "The value of the Weather did not impact the ranking. All values were: 86\n"
     ]
    }
   ],
   "source": [
    "# Prints what variables did not impact the rating and why\n",
    "full_pitt2 = prepDF(full_pitt)\n",
    "# Creates a new data frame with the a specific set of columns to be processed\n",
    "dfPitt = DataFrame(full_pitt,columns=['url','lat','long', 'walkscore', 'transitscore', 'bikescore', 'noisescore', 'Livability', 'Amenities', 'Cost of Living', 'Crime', 'Education', 'Employment', 'Housing', 'Weather'])"
   ]
  },
  {
   "cell_type": "markdown",
   "metadata": {},
   "source": [
    "The method getScores() takes two dicts as input:\n",
    "1. scores (a dict with the value of the variable e.g. a walk score, a bike score, etc.)\n",
    "2. dictlvl (a dict with the user-given ratings for the criteria)\n",
    "\n",
    "It then calculates a score by taking the sum of the product of the value of each criteria and the user-given rating."
   ]
  },
  {
   "cell_type": "code",
   "execution_count": 9,
   "metadata": {
    "collapsed": true
   },
   "outputs": [],
   "source": [
    "# Gets the rating/score for a particular listing\n",
    "\n",
    "def getScore(scores, dictlvl):\n",
    "    score = scores['walkscore']*dictlvl['walklvl'] + scores['transitscore']*dictlvl['transitlvl'] + scores['bikescore']*dictlvl['bikelvl'] + scores['noisescore']*dictlvl['noiselvl'] + scores['livabilityscore']*dictlvl['livabilitylvl'] + scores['amenitiesscore']*dictlvl['amenitieslvl'] + scores['costoflivingscore']*dictlvl['costoflivinglvl'] + scores['crimescore']*dictlvl['crimelvl'] + scores['educationscore']*dictlvl['educationlvl'] + scores['employmentscore']*dictlvl['employmentlvl'] + scores['housingscore']*dictlvl['housinglvl'] + scores['weatherscore']*dictlvl['weatherlvl']\n",
    "    return score"
   ]
  },
  {
   "cell_type": "markdown",
   "metadata": {},
   "source": [
    "The method addRating() takes a dataframe as a parameter. It iterates through the rows of the data frame and adds a rating for the listing to the data frame. It returns the updated data frame."
   ]
  },
  {
   "cell_type": "code",
   "execution_count": 10,
   "metadata": {
    "collapsed": true
   },
   "outputs": [],
   "source": [
    "#Adds the rating as as column to the data frame\n",
    "\n",
    "def addRating(df):\n",
    "    dict = {}\n",
    "    for index, row in df.iterrows(): #iterates through the rows\n",
    "        # gets the score for each criteria\n",
    "        walkscore = row['walkscore']\n",
    "        transitscore = row['transitscore']\n",
    "        bikescore = row['bikescore']\n",
    "        noisescore = row['noisescore']\n",
    "        livabilityscore = row['Livability']\n",
    "        amenitiesscore = row['Amenities']\n",
    "        costoflivingscore = row['Cost of Living']\n",
    "        crimescore = row['Crime']\n",
    "        educationscore = row['Education']\n",
    "        employmentscore = row['Employment']\n",
    "        housingscore = row['Housing']\n",
    "        weatherscore = row['Weather']\n",
    "\n",
    "        # if the score is NaN, then set the score = 0\n",
    "        if np.isnan(walkscore):\n",
    "            walkscore=0\n",
    "        if np.isnan(transitscore):\n",
    "            transitscore=0\n",
    "        if np.isnan(bikescore):\n",
    "            bikescore=0\n",
    "        if np.isnan(noisescore):\n",
    "            noisescore=0\n",
    "        if np.isnan(livabilityscore):\n",
    "            livabilityscore=0\n",
    "        if np.isnan(amenitiesscore):\n",
    "            amenitiesscore=0\n",
    "        if np.isnan(costoflivingscore):\n",
    "            costoflivingscore=0\n",
    "        if np.isnan(crimescore):\n",
    "            crimescore=0\n",
    "        if np.isnan(educationscore):\n",
    "            educationscore=0\n",
    "        if np.isnan(employmentscore):\n",
    "            employmentscore=0\n",
    "        if np.isnan(housingscore):\n",
    "            housingscore=0\n",
    "        if np.isnan(weatherscore):\n",
    "            weatherscore=0\n",
    "\n",
    "        dictscores = {'walkscore':walkscore, 'transitscore':transitscore, 'bikescore': bikescore,\n",
    "                     'noisescore':noisescore, 'livabilityscore':livabilityscore, 'amenitiesscore':amenitiesscore,\n",
    "                     'costoflivingscore':costoflivingscore, 'crimescore':crimescore, 'educationscore':educationscore,\n",
    "                     'employmentscore':employmentscore, 'housingscore':housingscore, 'weatherscore':weatherscore}\n",
    "\n",
    "        score = getScore(dictscores, dictlvl) # gets a score/rating for the listing\n",
    "\n",
    "        dict[index] = score\n",
    "        df['rating'] = pd.Series(dict) #adds the rating to the given data frame\n",
    "        \n",
    "    return df"
   ]
  },
  {
   "cell_type": "code",
   "execution_count": 11,
   "metadata": {
    "collapsed": true
   },
   "outputs": [],
   "source": [
    "dfPitt = addRating(dfPitt)\n",
    "full_pitt2 = addRating(full_pitt)"
   ]
  },
  {
   "cell_type": "code",
   "execution_count": 12,
   "metadata": {},
   "outputs": [
    {
     "data": {
      "text/plain": [
       "count     314.000000\n",
       "mean     1181.643312\n",
       "std       198.155940\n",
       "min       561.000000\n",
       "25%      1017.000000\n",
       "50%      1207.500000\n",
       "75%      1349.000000\n",
       "max      1567.000000\n",
       "Name: rating, dtype: float64"
      ]
     },
     "execution_count": 12,
     "metadata": {},
     "output_type": "execute_result"
    }
   ],
   "source": [
    "# some statistics about the rating for the given data\n",
    "dfPitt['rating'].describe()"
   ]
  },
  {
   "cell_type": "markdown",
   "metadata": {},
   "source": [
    "The method topPerdf() takes a dataframe and a percentile value as parameters. It then returns a sorted dataframe with only the top listings in that given percentile.\n",
    "\n",
    "For example, if per = 90, then it shows listings in the 90th percentile based on the ratings."
   ]
  },
  {
   "cell_type": "code",
   "execution_count": 13,
   "metadata": {
    "collapsed": true
   },
   "outputs": [],
   "source": [
    "def topPerdf(df, per):\n",
    "   \n",
    "    per = per/100\n",
    "    \n",
    "    top10p = df[df['rating']>df['rating'].quantile(per)]\n",
    "    return top10p.sort_values(by=['rating','url'], ascending = False)"
   ]
  },
  {
   "cell_type": "code",
   "execution_count": 14,
   "metadata": {},
   "outputs": [],
   "source": [
    "topPerPitt = topPerdf(dfPitt, 95) #get the top 95th percentile listings based on ranking\n",
    "topPerPitt = topPerPitt.reset_index()"
   ]
  },
  {
   "cell_type": "code",
   "execution_count": 15,
   "metadata": {
    "collapsed": true
   },
   "outputs": [],
   "source": [
    "#Preparing the full dataframe so I can merge additional columns with the ranked data frame\n",
    "sortedFullPitt = full_pitt2.sort_values(by=['rating','url'], ascending = False)\n",
    "sortedFullPitt.index = range(1,len(sortedFullPitt.index)+1)\n",
    "topsortedFullPitt = sortedFullPitt.head(len(topPerPitt))\n",
    "topsortedFullPitt = topsortedFullPitt.reset_index()"
   ]
  },
  {
   "cell_type": "code",
   "execution_count": 16,
   "metadata": {},
   "outputs": [],
   "source": [
    "#Adding some informative columns\n",
    "topPerPitt_addCol = topPerPitt.join(DataFrame(topsortedFullPitt['address']))\n",
    "topPerPitt_addCol = topPerPitt_addCol.join(DataFrame(topsortedFullPitt['postalCode']))\n",
    "topPerPitt_addCol = topPerPitt_addCol.join(DataFrame(topsortedFullPitt['telephone']))\n",
    "topPerPitt_addCol = topPerPitt_addCol.join(DataFrame(topsortedFullPitt['type']))\n",
    "topPerPitt_addCol = topPerPitt_addCol.join(DataFrame(topsortedFullPitt['neighborhood']))"
   ]
  },
  {
   "cell_type": "code",
   "execution_count": 17,
   "metadata": {
    "collapsed": true
   },
   "outputs": [],
   "source": [
    "#maps column name to importance rating given\n",
    "dictColNameLvl = {'walkscore': walklvl, 'transitscore':transitlvl, 'bikescore':bikelvl, 'noisescore':noiselvl,\n",
    "          'Livability':livabilitylvl, 'Amenities':amenitieslvl, 'Cost of Living':costoflivinglvl,\n",
    "          'Crime':crimelvl, 'Education':educationlvl, 'Employment':employmentlvl,\n",
    "          'Housing':housinglvl, 'Weather':weatherlvl}"
   ]
  },
  {
   "cell_type": "code",
   "execution_count": 18,
   "metadata": {
    "collapsed": true
   },
   "outputs": [],
   "source": [
    "lvl5 = []\n",
    "lvl4 = []\n",
    "lvl3 = []\n",
    "lvl2 = []\n",
    "lvl1 = []\n",
    "lvl0 = []\n",
    "for col in dictColNameLvl:\n",
    "    if dictColNameLvl[col] == 5:\n",
    "        lvl5.append(col)\n",
    "    if dictColNameLvl[col] == 4:\n",
    "        lvl4.append(col)\n",
    "    if dictColNameLvl[col] == 3:\n",
    "        lvl3.append(col)\n",
    "    if dictColNameLvl[col] == 2:\n",
    "        lvl2.append(col)\n",
    "    if dictColNameLvl[col] == 1:\n",
    "        lvl1.append(col)\n",
    "    if dictColNameLvl[col] == 0:\n",
    "        lvl0.append(col)\n",
    "\n",
    "all_lvl = []\n",
    "all_lvl.append('rating')\n",
    "all_lvl.append('url')\n",
    "all_lvl.append('address')\n",
    "all_lvl.append('lat')\n",
    "all_lvl.append('long')\n",
    "all_lvl.append('postalCode')\n",
    "all_lvl.append('telephone')\n",
    "all_lvl.append('type')\n",
    "all_lvl.append('neighborhood')\n",
    "for x in lvl5:\n",
    "    all_lvl.append(x)\n",
    "for x in lvl4:\n",
    "    all_lvl.append(x)\n",
    "for x in lvl3:\n",
    "    all_lvl.append(x)\n",
    "for x in lvl2:\n",
    "    all_lvl.append(x)\n",
    "for x in lvl1:\n",
    "    all_lvl.append(x)\n",
    "for x in lvl0:\n",
    "    all_lvl.append(x)\n",
    "\n",
    "len5=len(lvl5)+1\n",
    "len4=len(lvl4)+1\n",
    "len3=len(lvl3)+1\n",
    "len2=len(lvl2)+1\n",
    "len1=len(lvl1)+1\n",
    "len0=len(lvl0)+1\n",
    "\n",
    "colName = []\n",
    "colName.append('')\n",
    "colName.append('')\n",
    "colName.append('')\n",
    "colName.append('')\n",
    "colName.append('')\n",
    "colName.append('')\n",
    "colName.append('')\n",
    "colName.append('')\n",
    "colName.append('')\n",
    "for x in range(1,len5):\n",
    "    colName.append('5')\n",
    "for x in range(1,len4):\n",
    "    colName.append('4')\n",
    "for x in range(1,len3):\n",
    "    colName.append('3')\n",
    "for x in range(1,len2):\n",
    "    colName.append('2')\n",
    "for x in range(1,len1):\n",
    "    colName.append('1')\n",
    "for x in range(1,len0):\n",
    "    colName.append('0')"
   ]
  },
  {
   "cell_type": "code",
   "execution_count": 19,
   "metadata": {},
   "outputs": [],
   "source": [
    "#Adding a column heading that shows the rated importance for each category\n",
    "final_display_Pitt = topPerPitt_addCol[all_lvl]\n",
    "col = final_display_Pitt.columns[final_display_Pitt.isnull().all()].tolist()\n",
    "arrays = [colName, all_lvl]\n",
    "final_display_Pitt.columns = pd.MultiIndex.from_arrays(arrays, names=['Imp. Rating',''])\n",
    "final_display_Pitt.index = range(1,len(final_display_Pitt.index)+1) #have the index as a ranking from 1-length\n",
    "final_display_Pitt = final_display_Pitt.drop(labels='0', level=0, axis = 1) #drop the columns that were given an importance of 0\n",
    "final_display_Pitt = final_display_Pitt.drop(labels=col, level =1 ,axis = 1) #drop the columns where all the values are NaN"
   ]
  },
  {
   "cell_type": "code",
   "execution_count": 20,
   "metadata": {},
   "outputs": [],
   "source": [
    "#adding a row that shows the local average and overall average of the top percentile listings for each category\n",
    "localAvgRow = [int(topPerPitt['rating'].mean()),'','','','','','','','']\n",
    "overallAvgRow = [int(sortedFullPitt['rating'].mean()),'','','','','','','','']\n",
    "for x in all_lvl[9::]:\n",
    "    if str(topPerPitt[x].mean())!=str(np.nan) and dictColNameLvl[x]!= 0:\n",
    "        localAvgRow.append(int(topPerPitt[x].mean()))\n",
    "    if str(sortedFullPitt[x].mean())!=str(np.nan) and dictColNameLvl[x]!= 0:\n",
    "        overallAvgRow.append(int(sortedFullPitt[x].mean()))\n",
    "final_display_Pitt.loc['Local Avg'] = localAvgRow\n",
    "final_display_Pitt.loc['Overall Avg'] = overallAvgRow"
   ]
  },
  {
   "cell_type": "code",
   "execution_count": 21,
   "metadata": {
    "collapsed": true
   },
   "outputs": [],
   "source": [
    "def getMap(df):\n",
    "    loc = []\n",
    "    for index, row in df.iterrows():\n",
    "        details = {'lat':row['lat'],'long':row['long'],'url':row['url'],'address':row['address'],'rating':row['rating'],'telephone':row['telephone']}\n",
    "        loc.append(details)\n",
    "    \n",
    "    folium_map = folium.Map(location=[loc[0]['lat'], loc[0]['long']])\n",
    "    \n",
    "    for i in range(1,len(loc)):\n",
    "    \n",
    "                    \n",
    "        listing_detail = folium.Html(('Listing URL: ' + '<a href=\"' + loc[i]['url'] + '\"target=\"_blank\">'+ re.sub(r\"[']+\", \"\\\\\\\\'\", str(loc[i]['url'])[:45]) +'</a>'+ '<br>'+\n",
    "                         'Rating: ' + str(loc[i]['rating'])+ '<br>'+\n",
    "                         'Address: ' + loc[i]['address']+ '<br>'+\n",
    "                         'Telephone: ' + str(loc[i]['telephone'])),script=True)\n",
    "        \n",
    "        folium.Marker(location=[loc[i]['lat'], loc[i]['long']],popup=folium.Popup(listing_detail)).add_to(folium_map)\n",
    "    folium_map.fit_bounds(folium_map.get_bounds())\n",
    "    return folium_map"
   ]
  },
  {
   "cell_type": "code",
   "execution_count": 22,
   "metadata": {
    "collapsed": true
   },
   "outputs": [],
   "source": [
    "#Creates a histogram of all listings for a selected column and highlights the ones that we display in red\n",
    "\n",
    "def getHistoHighlight(title, column, reg, topPer):\n",
    "    col = reg[column].dropna().tolist()\n",
    "    topPercol = topPer[column].dropna().tolist()\n",
    "\n",
    "    try:\n",
    "        x = sns.distplot(col, bins=10, kde=False, rug=True)\n",
    "        #Highlight the results we are showing them\n",
    "        x.axvspan(min(topPercol), max(topPercol), color='red', alpha=0.5)\n",
    "        x.set(xlabel = title ,ylabel = \"Frequency\")\n",
    "        x.set_title(title + ' Historgram')\n",
    "        return plt.show()\n",
    "    \n",
    "    except:\n",
    "        print('could not plot ' + column)"
   ]
  },
  {
   "cell_type": "code",
   "execution_count": 23,
   "metadata": {
    "collapsed": true
   },
   "outputs": [],
   "source": [
    "# Creates a correlation plot between all the features\n",
    "\n",
    "def getCorrPlot(df):\n",
    "    d = df.iloc[ :, 3:-1]\n",
    "    d = d.fillna(value = 0)\n",
    "    f, ax = plt.subplots(figsize=(10, 8))\n",
    "    corr = d.corr()\n",
    "    x = sns.heatmap(corr, mask=np.zeros_like(corr, dtype=np.bool), cmap=sns.diverging_palette(220, 10, as_cmap=True),\n",
    "                square=True, ax=ax)\n",
    "    x.set_xticklabels(x.get_xticklabels(),rotation = 45)\n",
    "    return plt.show()\n",
    "\n"
   ]
  },
  {
   "cell_type": "markdown",
   "metadata": {},
   "source": [
    "## Displaying the Results to the User"
   ]
  },
  {
   "cell_type": "markdown",
   "metadata": {},
   "source": [
    "### A Table Format"
   ]
  },
  {
   "cell_type": "markdown",
   "metadata": {},
   "source": [
    "The data frame displayed below shows the user some useful information about each of the listings in the top specified percentile. It is a ranked listing.\n",
    "\n",
    "At the bottom of the table, there are also averages for the ranking and each of the criteria based on:\n",
    "- Local average (i.e. from the top percentile)\n",
    "- Overall average (i.e. from all the resulting listings that matched the initial search)"
   ]
  },
  {
   "cell_type": "code",
   "execution_count": 24,
   "metadata": {},
   "outputs": [
    {
     "data": {
      "text/html": [
       "<div>\n",
       "<style>\n",
       "    .dataframe thead tr:only-child th {\n",
       "        text-align: right;\n",
       "    }\n",
       "\n",
       "    .dataframe thead th {\n",
       "        text-align: left;\n",
       "    }\n",
       "\n",
       "    .dataframe tbody tr th {\n",
       "        vertical-align: top;\n",
       "    }\n",
       "</style>\n",
       "<table border=\"1\" class=\"dataframe\">\n",
       "  <thead>\n",
       "    <tr>\n",
       "      <th>Imp. Rating</th>\n",
       "      <th colspan=\"9\" halign=\"left\"></th>\n",
       "      <th>5</th>\n",
       "      <th>4</th>\n",
       "      <th colspan=\"3\" halign=\"left\">3</th>\n",
       "      <th>1</th>\n",
       "    </tr>\n",
       "    <tr>\n",
       "      <th></th>\n",
       "      <th>rating</th>\n",
       "      <th>url</th>\n",
       "      <th>address</th>\n",
       "      <th>lat</th>\n",
       "      <th>long</th>\n",
       "      <th>postalCode</th>\n",
       "      <th>telephone</th>\n",
       "      <th>type</th>\n",
       "      <th>neighborhood</th>\n",
       "      <th>Employment</th>\n",
       "      <th>walkscore</th>\n",
       "      <th>bikescore</th>\n",
       "      <th>Cost of Living</th>\n",
       "      <th>Housing</th>\n",
       "      <th>Crime</th>\n",
       "    </tr>\n",
       "  </thead>\n",
       "  <tbody>\n",
       "    <tr>\n",
       "      <th>1</th>\n",
       "      <td>1567.0</td>\n",
       "      <td>https://www.apartments.com/5706-darlington-rd-...</td>\n",
       "      <td>5706 Darlington Rd</td>\n",
       "      <td>40.4366</td>\n",
       "      <td>-79.9246</td>\n",
       "      <td>15217</td>\n",
       "      <td>+1-412-564-4237</td>\n",
       "      <td>ApartmentComplex</td>\n",
       "      <td>Squirrel Hill South</td>\n",
       "      <td>92</td>\n",
       "      <td>93</td>\n",
       "      <td>76.0</td>\n",
       "      <td>66</td>\n",
       "      <td>79</td>\n",
       "      <td>72</td>\n",
       "    </tr>\n",
       "    <tr>\n",
       "      <th>2</th>\n",
       "      <td>1567.0</td>\n",
       "      <td>https://www.apartments.com/5700-darlington-rd-...</td>\n",
       "      <td>5700 Darlington Rd</td>\n",
       "      <td>40.4372</td>\n",
       "      <td>-79.9246</td>\n",
       "      <td>15217</td>\n",
       "      <td>+1-412-968-0744</td>\n",
       "      <td>SingleFamilyResidence</td>\n",
       "      <td>Squirrel Hill South</td>\n",
       "      <td>92</td>\n",
       "      <td>93</td>\n",
       "      <td>76.0</td>\n",
       "      <td>66</td>\n",
       "      <td>79</td>\n",
       "      <td>72</td>\n",
       "    </tr>\n",
       "    <tr>\n",
       "      <th>3</th>\n",
       "      <td>1567.0</td>\n",
       "      <td>https://www.apartments.com/5700-darlington-rd-...</td>\n",
       "      <td>5700 Darlington Rd</td>\n",
       "      <td>40.4372</td>\n",
       "      <td>-79.9246</td>\n",
       "      <td>15217</td>\n",
       "      <td>+1-412-618-4714</td>\n",
       "      <td>ApartmentComplex</td>\n",
       "      <td>Squirrel Hill South</td>\n",
       "      <td>92</td>\n",
       "      <td>93</td>\n",
       "      <td>76.0</td>\n",
       "      <td>66</td>\n",
       "      <td>79</td>\n",
       "      <td>72</td>\n",
       "    </tr>\n",
       "    <tr>\n",
       "      <th>4</th>\n",
       "      <td>1554.0</td>\n",
       "      <td>https://www.apartments.com/582-peebles-st-pitt...</td>\n",
       "      <td>582 Peebles St</td>\n",
       "      <td>40.44</td>\n",
       "      <td>-79.8948</td>\n",
       "      <td>15221</td>\n",
       "      <td>+1-412-924-8989</td>\n",
       "      <td>ApartmentComplex</td>\n",
       "      <td>Point Breeze</td>\n",
       "      <td>100</td>\n",
       "      <td>75</td>\n",
       "      <td>70.0</td>\n",
       "      <td>62</td>\n",
       "      <td>86</td>\n",
       "      <td>100</td>\n",
       "    </tr>\n",
       "    <tr>\n",
       "      <th>5</th>\n",
       "      <td>1539.0</td>\n",
       "      <td>https://www.apartments.com/2112-murray-ave-pit...</td>\n",
       "      <td>2112 Murray Ave</td>\n",
       "      <td>40.4333</td>\n",
       "      <td>-79.9232</td>\n",
       "      <td>15217</td>\n",
       "      <td>+1-412-437-2333</td>\n",
       "      <td>ApartmentComplex</td>\n",
       "      <td>Squirrel Hill South</td>\n",
       "      <td>92</td>\n",
       "      <td>92</td>\n",
       "      <td>68.0</td>\n",
       "      <td>66</td>\n",
       "      <td>79</td>\n",
       "      <td>72</td>\n",
       "    </tr>\n",
       "    <tr>\n",
       "      <th>6</th>\n",
       "      <td>1538.0</td>\n",
       "      <td>https://www.apartments.com/5710-beacon-st-pitt...</td>\n",
       "      <td>5710 Beacon St</td>\n",
       "      <td>40.4343</td>\n",
       "      <td>-79.9242</td>\n",
       "      <td>15217</td>\n",
       "      <td>+1-412-362-3333</td>\n",
       "      <td>SingleFamilyResidence</td>\n",
       "      <td>Squirrel Hill South</td>\n",
       "      <td>92</td>\n",
       "      <td>91</td>\n",
       "      <td>69.0</td>\n",
       "      <td>66</td>\n",
       "      <td>79</td>\n",
       "      <td>72</td>\n",
       "    </tr>\n",
       "    <tr>\n",
       "      <th>7</th>\n",
       "      <td>1538.0</td>\n",
       "      <td>https://www.apartments.com/5710-beacon-st-pitt...</td>\n",
       "      <td>5710 Beacon St</td>\n",
       "      <td>40.4343</td>\n",
       "      <td>-79.9242</td>\n",
       "      <td>15217</td>\n",
       "      <td>+1-844-295-8513</td>\n",
       "      <td>ApartmentComplex</td>\n",
       "      <td>Squirrel Hill South</td>\n",
       "      <td>92</td>\n",
       "      <td>91</td>\n",
       "      <td>69.0</td>\n",
       "      <td>66</td>\n",
       "      <td>79</td>\n",
       "      <td>72</td>\n",
       "    </tr>\n",
       "    <tr>\n",
       "      <th>8</th>\n",
       "      <td>1492.0</td>\n",
       "      <td>https://www.apartments.com/2283-shady-ave-pitt...</td>\n",
       "      <td>2283 Shady Ave</td>\n",
       "      <td>40.431</td>\n",
       "      <td>-79.9191</td>\n",
       "      <td>15217</td>\n",
       "      <td>+1-412-441-1400</td>\n",
       "      <td>SingleFamilyResidence</td>\n",
       "      <td>Squirrel Hill South</td>\n",
       "      <td>92</td>\n",
       "      <td>81</td>\n",
       "      <td>67.0</td>\n",
       "      <td>66</td>\n",
       "      <td>79</td>\n",
       "      <td>72</td>\n",
       "    </tr>\n",
       "    <tr>\n",
       "      <th>9</th>\n",
       "      <td>1492.0</td>\n",
       "      <td>https://www.apartments.com/2261-shady-ave-pitt...</td>\n",
       "      <td>2261 Shady Ave</td>\n",
       "      <td>40.4314</td>\n",
       "      <td>-79.9184</td>\n",
       "      <td>15217</td>\n",
       "      <td>+1-412-545-5797</td>\n",
       "      <td>SingleFamilyResidence</td>\n",
       "      <td>Squirrel Hill South</td>\n",
       "      <td>92</td>\n",
       "      <td>81</td>\n",
       "      <td>67.0</td>\n",
       "      <td>66</td>\n",
       "      <td>79</td>\n",
       "      <td>72</td>\n",
       "    </tr>\n",
       "    <tr>\n",
       "      <th>10</th>\n",
       "      <td>1488.0</td>\n",
       "      <td>https://www.apartments.com/6327-waldron-st-pit...</td>\n",
       "      <td>6327 Waldron St</td>\n",
       "      <td>40.4319</td>\n",
       "      <td>-79.917</td>\n",
       "      <td>15217</td>\n",
       "      <td>+1-412-683-7300</td>\n",
       "      <td>SingleFamilyResidence</td>\n",
       "      <td>Squirrel Hill South</td>\n",
       "      <td>92</td>\n",
       "      <td>80</td>\n",
       "      <td>67.0</td>\n",
       "      <td>66</td>\n",
       "      <td>79</td>\n",
       "      <td>72</td>\n",
       "    </tr>\n",
       "    <tr>\n",
       "      <th>11</th>\n",
       "      <td>1488.0</td>\n",
       "      <td>https://www.apartments.com/6317-phillips-ave-p...</td>\n",
       "      <td>6317 Phillips Ave</td>\n",
       "      <td>40.4326</td>\n",
       "      <td>-79.9175</td>\n",
       "      <td>15217</td>\n",
       "      <td>+1-844-511-8978</td>\n",
       "      <td>SingleFamilyResidence</td>\n",
       "      <td>Squirrel Hill South</td>\n",
       "      <td>92</td>\n",
       "      <td>80</td>\n",
       "      <td>67.0</td>\n",
       "      <td>66</td>\n",
       "      <td>79</td>\n",
       "      <td>72</td>\n",
       "    </tr>\n",
       "    <tr>\n",
       "      <th>12</th>\n",
       "      <td>1488.0</td>\n",
       "      <td>https://www.apartments.com/6313-phillips-ave-p...</td>\n",
       "      <td>6313 Phillips Ave</td>\n",
       "      <td>40.4327</td>\n",
       "      <td>-79.9177</td>\n",
       "      <td>15217</td>\n",
       "      <td>+1-973-947-8728</td>\n",
       "      <td>SingleFamilyResidence</td>\n",
       "      <td>Squirrel Hill South</td>\n",
       "      <td>92</td>\n",
       "      <td>80</td>\n",
       "      <td>67.0</td>\n",
       "      <td>66</td>\n",
       "      <td>79</td>\n",
       "      <td>72</td>\n",
       "    </tr>\n",
       "    <tr>\n",
       "      <th>13</th>\n",
       "      <td>1488.0</td>\n",
       "      <td>https://www.apartments.com/5619-melvin-st-pitt...</td>\n",
       "      <td>5619 Melvin St</td>\n",
       "      <td>40.4305</td>\n",
       "      <td>-79.9267</td>\n",
       "      <td>15217</td>\n",
       "      <td>+1-412-441-1400</td>\n",
       "      <td>SingleFamilyResidence</td>\n",
       "      <td>Squirrel Hill South</td>\n",
       "      <td>92</td>\n",
       "      <td>86</td>\n",
       "      <td>59.0</td>\n",
       "      <td>66</td>\n",
       "      <td>79</td>\n",
       "      <td>72</td>\n",
       "    </tr>\n",
       "    <tr>\n",
       "      <th>14</th>\n",
       "      <td>1483.0</td>\n",
       "      <td>https://www.apartments.com/5552-phillips-ave-p...</td>\n",
       "      <td>5552 Phillips Ave</td>\n",
       "      <td>40.4308</td>\n",
       "      <td>-79.9278</td>\n",
       "      <td>15217</td>\n",
       "      <td>+1-412-455-5600</td>\n",
       "      <td>SingleFamilyResidence</td>\n",
       "      <td>Squirrel Hill South</td>\n",
       "      <td>92</td>\n",
       "      <td>84</td>\n",
       "      <td>60.0</td>\n",
       "      <td>66</td>\n",
       "      <td>79</td>\n",
       "      <td>72</td>\n",
       "    </tr>\n",
       "    <tr>\n",
       "      <th>15</th>\n",
       "      <td>1473.0</td>\n",
       "      <td>https://www.apartments.com/4743-liberty-ave-pi...</td>\n",
       "      <td>4743 Liberty Ave</td>\n",
       "      <td>40.4616</td>\n",
       "      <td>-79.9485</td>\n",
       "      <td>15224</td>\n",
       "      <td>+1-412-927-1472</td>\n",
       "      <td>ApartmentComplex</td>\n",
       "      <td>Bloomfield</td>\n",
       "      <td>79</td>\n",
       "      <td>95</td>\n",
       "      <td>83.0</td>\n",
       "      <td>76</td>\n",
       "      <td>67</td>\n",
       "      <td>20</td>\n",
       "    </tr>\n",
       "    <tr>\n",
       "      <th>16</th>\n",
       "      <td>1472.0</td>\n",
       "      <td>https://www.apartments.com/239-s-mathilda-st-p...</td>\n",
       "      <td>239 S Mathilda St</td>\n",
       "      <td>40.4639</td>\n",
       "      <td>-79.9463</td>\n",
       "      <td>15224</td>\n",
       "      <td>+1-412-347-8783</td>\n",
       "      <td>ApartmentComplex</td>\n",
       "      <td>Bloomfield</td>\n",
       "      <td>79</td>\n",
       "      <td>94</td>\n",
       "      <td>84.0</td>\n",
       "      <td>76</td>\n",
       "      <td>67</td>\n",
       "      <td>20</td>\n",
       "    </tr>\n",
       "    <tr>\n",
       "      <th>Local Avg</th>\n",
       "      <td>1514.0</td>\n",
       "      <td></td>\n",
       "      <td></td>\n",
       "      <td></td>\n",
       "      <td></td>\n",
       "      <td></td>\n",
       "      <td></td>\n",
       "      <td></td>\n",
       "      <td></td>\n",
       "      <td>90</td>\n",
       "      <td>86</td>\n",
       "      <td>70.0</td>\n",
       "      <td>67</td>\n",
       "      <td>77</td>\n",
       "      <td>67</td>\n",
       "    </tr>\n",
       "    <tr>\n",
       "      <th>Overall Avg</th>\n",
       "      <td>1181.0</td>\n",
       "      <td></td>\n",
       "      <td></td>\n",
       "      <td></td>\n",
       "      <td></td>\n",
       "      <td></td>\n",
       "      <td></td>\n",
       "      <td></td>\n",
       "      <td></td>\n",
       "      <td>74</td>\n",
       "      <td>64</td>\n",
       "      <td>46.0</td>\n",
       "      <td>75</td>\n",
       "      <td>61</td>\n",
       "      <td>29</td>\n",
       "    </tr>\n",
       "  </tbody>\n",
       "</table>\n",
       "</div>"
      ],
      "text/plain": [
       "Imp. Rating                                                             \\\n",
       "             rating                                                url   \n",
       "1            1567.0  https://www.apartments.com/5706-darlington-rd-...   \n",
       "2            1567.0  https://www.apartments.com/5700-darlington-rd-...   \n",
       "3            1567.0  https://www.apartments.com/5700-darlington-rd-...   \n",
       "4            1554.0  https://www.apartments.com/582-peebles-st-pitt...   \n",
       "5            1539.0  https://www.apartments.com/2112-murray-ave-pit...   \n",
       "6            1538.0  https://www.apartments.com/5710-beacon-st-pitt...   \n",
       "7            1538.0  https://www.apartments.com/5710-beacon-st-pitt...   \n",
       "8            1492.0  https://www.apartments.com/2283-shady-ave-pitt...   \n",
       "9            1492.0  https://www.apartments.com/2261-shady-ave-pitt...   \n",
       "10           1488.0  https://www.apartments.com/6327-waldron-st-pit...   \n",
       "11           1488.0  https://www.apartments.com/6317-phillips-ave-p...   \n",
       "12           1488.0  https://www.apartments.com/6313-phillips-ave-p...   \n",
       "13           1488.0  https://www.apartments.com/5619-melvin-st-pitt...   \n",
       "14           1483.0  https://www.apartments.com/5552-phillips-ave-p...   \n",
       "15           1473.0  https://www.apartments.com/4743-liberty-ave-pi...   \n",
       "16           1472.0  https://www.apartments.com/239-s-mathilda-st-p...   \n",
       "Local Avg    1514.0                                                      \n",
       "Overall Avg  1181.0                                                      \n",
       "\n",
       "Imp. Rating                                                                    \\\n",
       "                        address      lat     long postalCode        telephone   \n",
       "1            5706 Darlington Rd  40.4366 -79.9246      15217  +1-412-564-4237   \n",
       "2            5700 Darlington Rd  40.4372 -79.9246      15217  +1-412-968-0744   \n",
       "3            5700 Darlington Rd  40.4372 -79.9246      15217  +1-412-618-4714   \n",
       "4                582 Peebles St    40.44 -79.8948      15221  +1-412-924-8989   \n",
       "5               2112 Murray Ave  40.4333 -79.9232      15217  +1-412-437-2333   \n",
       "6                5710 Beacon St  40.4343 -79.9242      15217  +1-412-362-3333   \n",
       "7                5710 Beacon St  40.4343 -79.9242      15217  +1-844-295-8513   \n",
       "8                2283 Shady Ave   40.431 -79.9191      15217  +1-412-441-1400   \n",
       "9                2261 Shady Ave  40.4314 -79.9184      15217  +1-412-545-5797   \n",
       "10              6327 Waldron St  40.4319  -79.917      15217  +1-412-683-7300   \n",
       "11            6317 Phillips Ave  40.4326 -79.9175      15217  +1-844-511-8978   \n",
       "12            6313 Phillips Ave  40.4327 -79.9177      15217  +1-973-947-8728   \n",
       "13               5619 Melvin St  40.4305 -79.9267      15217  +1-412-441-1400   \n",
       "14            5552 Phillips Ave  40.4308 -79.9278      15217  +1-412-455-5600   \n",
       "15             4743 Liberty Ave  40.4616 -79.9485      15224  +1-412-927-1472   \n",
       "16            239 S Mathilda St  40.4639 -79.9463      15224  +1-412-347-8783   \n",
       "Local Avg                                                                       \n",
       "Overall Avg                                                                     \n",
       "\n",
       "Imp. Rating                                                      5         4  \\\n",
       "                              type         neighborhood Employment walkscore   \n",
       "1                 ApartmentComplex  Squirrel Hill South         92        93   \n",
       "2            SingleFamilyResidence  Squirrel Hill South         92        93   \n",
       "3                 ApartmentComplex  Squirrel Hill South         92        93   \n",
       "4                 ApartmentComplex         Point Breeze        100        75   \n",
       "5                 ApartmentComplex  Squirrel Hill South         92        92   \n",
       "6            SingleFamilyResidence  Squirrel Hill South         92        91   \n",
       "7                 ApartmentComplex  Squirrel Hill South         92        91   \n",
       "8            SingleFamilyResidence  Squirrel Hill South         92        81   \n",
       "9            SingleFamilyResidence  Squirrel Hill South         92        81   \n",
       "10           SingleFamilyResidence  Squirrel Hill South         92        80   \n",
       "11           SingleFamilyResidence  Squirrel Hill South         92        80   \n",
       "12           SingleFamilyResidence  Squirrel Hill South         92        80   \n",
       "13           SingleFamilyResidence  Squirrel Hill South         92        86   \n",
       "14           SingleFamilyResidence  Squirrel Hill South         92        84   \n",
       "15                ApartmentComplex           Bloomfield         79        95   \n",
       "16                ApartmentComplex           Bloomfield         79        94   \n",
       "Local Avg                                                       90        86   \n",
       "Overall Avg                                                     74        64   \n",
       "\n",
       "Imp. Rating         3                            1  \n",
       "            bikescore Cost of Living Housing Crime  \n",
       "1                76.0             66      79    72  \n",
       "2                76.0             66      79    72  \n",
       "3                76.0             66      79    72  \n",
       "4                70.0             62      86   100  \n",
       "5                68.0             66      79    72  \n",
       "6                69.0             66      79    72  \n",
       "7                69.0             66      79    72  \n",
       "8                67.0             66      79    72  \n",
       "9                67.0             66      79    72  \n",
       "10               67.0             66      79    72  \n",
       "11               67.0             66      79    72  \n",
       "12               67.0             66      79    72  \n",
       "13               59.0             66      79    72  \n",
       "14               60.0             66      79    72  \n",
       "15               83.0             76      67    20  \n",
       "16               84.0             76      67    20  \n",
       "Local Avg        70.0             67      77    67  \n",
       "Overall Avg      46.0             75      61    29  "
      ]
     },
     "execution_count": 24,
     "metadata": {},
     "output_type": "execute_result"
    }
   ],
   "source": [
    "#The data frame to be displayed to the user\n",
    "final_display_Pitt\n"
   ]
  },
  {
   "cell_type": "markdown",
   "metadata": {},
   "source": [
    "### An Interactive Map Format"
   ]
  },
  {
   "cell_type": "markdown",
   "metadata": {},
   "source": [
    "This map below displays the listings in the top specified percentile. If a user clicks on one of the pins, it will display further information about that listing as well a hyperlink to the source listing where they can find further information."
   ]
  },
  {
   "cell_type": "code",
   "execution_count": 25,
   "metadata": {},
   "outputs": [
    {
     "data": {
      "text/html": [
       "<div style=\"width:100%;\"><div style=\"position:relative;width:100%;height:0;padding-bottom:60%;\"><iframe src=\"data:text/html;charset=utf-8;base64,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\" style=\"position:absolute;width:100%;height:100%;left:0;top:0;border:none !important;\" allowfullscreen webkitallowfullscreen mozallowfullscreen></iframe></div></div>"
      ],
      "text/plain": [
       "<folium.folium.Map at 0x1c6555fe358>"
      ]
     },
     "execution_count": 25,
     "metadata": {},
     "output_type": "execute_result"
    }
   ],
   "source": [
    "listing_map = getMap(topPerPitt_addCol)\n",
    "listing_map"
   ]
  },
  {
   "cell_type": "markdown",
   "metadata": {},
   "source": [
    "### Visualizations"
   ]
  },
  {
   "cell_type": "markdown",
   "metadata": {},
   "source": [
    "This part of the code will display some informative visualizations about the results.\n",
    "\n",
    "The first chart displays the distribution of ratings in all the resulting listings, while highlighting the homes in the top specified percentile in red."
   ]
  },
  {
   "cell_type": "code",
   "execution_count": 26,
   "metadata": {},
   "outputs": [
    {
     "data": {
      "image/png": "[encoded data removed]",
      "text/plain": [
       "<matplotlib.figure.Figure at 0x1c6556384a8>"
      ]
     },
     "metadata": {},
     "output_type": "display_data"
    }
   ],
   "source": [
    "getHistoHighlight('Ratings', 'rating', dfPitt, topPerPitt)"
   ]
  },
  {
   "cell_type": "markdown",
   "metadata": {},
   "source": [
    "The following charts display the distribution of scores for all the criteria they rated on in all the resulting listings, while highlighting the homes in the top specified percentile in red.\n",
    "\n",
    "This allows the user to see where the homes that were displayed to them lie with respect to the state of homes in general.\n",
    "\n",
    "It also displays the rating that they gave the homes for reference."
   ]
  },
  {
   "cell_type": "code",
   "execution_count": 27,
   "metadata": {},
   "outputs": [
    {
     "name": "stdout",
     "output_type": "stream",
     "text": [
      "Importance of walkscore was rated as: 4\n"
     ]
    },
    {
     "data": {
      "image/png": "[encoded data removed]",
      "text/plain": [
       "<matplotlib.figure.Figure at 0x1c655585908>"
      ]
     },
     "metadata": {},
     "output_type": "display_data"
    },
    {
     "name": "stdout",
     "output_type": "stream",
     "text": [
      "Importance of bikescore was rated as: 3\n"
     ]
    },
    {
     "data": {
      "image/png": "[encoded data removed]",
      "text/plain": [
       "<matplotlib.figure.Figure at 0x1c6561d0cf8>"
      ]
     },
     "metadata": {},
     "output_type": "display_data"
    },
    {
     "name": "stdout",
     "output_type": "stream",
     "text": [
      "Importance of Cost of Living was rated as: 3\n"
     ]
    },
    {
     "data": {
      "image/png": "[encoded data removed]",
      "text/plain": [
       "<matplotlib.figure.Figure at 0x1c656512b00>"
      ]
     },
     "metadata": {},
     "output_type": "display_data"
    },
    {
     "name": "stdout",
     "output_type": "stream",
     "text": [
      "Importance of Crime was rated as: 1\n"
     ]
    },
    {
     "data": {
      "image/png": "[encoded data removed]",
      "text/plain": [
       "<matplotlib.figure.Figure at 0x1c655638cf8>"
      ]
     },
     "metadata": {},
     "output_type": "display_data"
    },
    {
     "name": "stdout",
     "output_type": "stream",
     "text": [
      "Importance of Employment was rated as: 5\n"
     ]
    },
    {
     "data": {
      "image/png": "[encoded data removed]",
      "text/plain": [
       "<matplotlib.figure.Figure at 0x1c65640aac8>"
      ]
     },
     "metadata": {},
     "output_type": "display_data"
    },
    {
     "name": "stdout",
     "output_type": "stream",
     "text": [
      "Importance of Housing was rated as: 3\n"
     ]
    },
    {
     "data": {
      "image/png": "[encoded data removed]",
      "text/plain": [
       "<matplotlib.figure.Figure at 0x1c655ef2eb8>"
      ]
     },
     "metadata": {},
     "output_type": "display_data"
    }
   ],
   "source": [
    "for key, value in dictColNameLvl.items():\n",
    "    if value != 0 and key not in [x for x in col]:\n",
    "        print('Importance of '+ key + ' was rated as: ' + str(value))\n",
    "        getHistoHighlight(key, key, dfPitt, topPerPitt)"
   ]
  },
  {
   "cell_type": "markdown",
   "metadata": {},
   "source": [
    "The following plot shows the correlation between the features. This helps in knowing the strength and relationship between various features that the application offers. Some features are positively correlated to one another and some are negatively correlated."
   ]
  },
  {
   "cell_type": "code",
   "execution_count": 28,
   "metadata": {},
   "outputs": [
    {
     "data": {
      "image/png": "[encoded data removed]",
      "text/plain": [
       "<matplotlib.figure.Figure at 0x1c6555fe3c8>"
      ]
     },
     "metadata": {},
     "output_type": "display_data"
    }
   ],
   "source": [
    "getCorrPlot(dfPitt)"
   ]
  }
 ],
 "metadata": {
  "kernelspec": {
   "display_name": "Python 3",
   "language": "python",
   "name": "python3"
  },
  "language_info": {
   "codemirror_mode": {
    "name": "ipython",
    "version": 3
   },
   "file_extension": ".py",
   "mimetype": "text/x-python",
   "name": "python",
   "nbconvert_exporter": "python",
   "pygments_lexer": "ipython3",
   "version": "3.6.3"
  }
 },
 "nbformat": 4,
 "nbformat_minor": 2
}
