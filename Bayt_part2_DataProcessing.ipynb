{
 "cells": [
  {
   "cell_type": "markdown",
   "metadata": {},
   "source": [
    "# Bayt, Part 2 - Data Processing & Results Display"
   ]
  },
  {
   "cell_type": "markdown",
   "metadata": {},
   "source": [
    "Project by Lama Kaysi and Varun Hebbar\n",
    "\n",
    "This part of the project uses the excel sheet created in part 1. It asks the user to rate a number of criteria about homes that are important to them, then processes and displays the information."
   ]
  },
  {
   "cell_type": "code",
   "execution_count": 1,
   "metadata": {
    "collapsed": true
   },
   "outputs": [],
   "source": [
    "import pandas as pd\n",
    "from pandas import DataFrame, Series\n",
    "import numpy as np\n",
    "import matplotlib.pyplot as plt\n",
    "from scipy import stats\n",
    "from tkinter import *\n",
    "import folium\n",
    "import seaborn as sns"
   ]
  },
  {
   "cell_type": "code",
   "execution_count": 2,
   "metadata": {
    "collapsed": true
   },
   "outputs": [],
   "source": [
    "%matplotlib inline"
   ]
  },
  {
   "cell_type": "markdown",
   "metadata": {},
   "source": [
    "## Getting User Inputs"
   ]
  },
  {
   "cell_type": "markdown",
   "metadata": {},
   "source": [
    "This part of the code gets the user to provide ratings on a scale of 0 to 5 on all of the following criteria:\n",
    "1. walk score\n",
    "2. transit score\n",
    "3. bike score\n",
    "4. noise level\n",
    "5. livability\n",
    "6. amenities\n",
    "7. cost of living\n",
    "8. crime\n",
    "9. education\n",
    "10. employment\n",
    "11. housing\n",
    "12. weather"
   ]
  },
  {
   "cell_type": "markdown",
   "metadata": {},
   "source": [
    "The cell directly below this one is used to get the user inputs."
   ]
  },
  {
   "cell_type": "code",
   "execution_count": 3,
   "metadata": {
    "collapsed": true
   },
   "outputs": [],
   "source": [
    "# print('Please rate following criteria on a scale of 0-5')\n",
    "# print('0 = not important')\n",
    "# print('5 = very important')\n",
    "\n",
    "# walklvl = input('Walk Score: ').strip()\n",
    "# transitlvl = input('Transit Score: ').strip()\n",
    "# bikelvl = input('Bike Score: ').strip()\n",
    "# noiselvl = input('Noise Score: ').strip() \n",
    "# livabilitylvl = input('Livability').strip()\n",
    "# amenitieslvl = input('Amenities: ').strip()\n",
    "# costoflivinglvl = input('Cost of living: ').strip()\n",
    "# crimelvl = input('Crime level: ').strip()\n",
    "# educationlvl = input('Education: ').strip()\n",
    "# employmentlvl = input('Employment: ').strip()\n",
    "# housinglvl = input('Housing: ').strip()\n",
    "# weatherlvl = input('Weather: ').strip()"
   ]
  },
  {
   "cell_type": "markdown",
   "metadata": {},
   "source": [
    "For simplicity of demonstration and to make it quicker to run the code, we assume some values for the user input in the cell below."
   ]
  },
  {
   "cell_type": "code",
   "execution_count": 3,
   "metadata": {
    "collapsed": true
   },
   "outputs": [],
   "source": [
    "# Assuming some rating values\n",
    "\n",
    "walklvl = 4\n",
    "transitlvl = 0\n",
    "bikelvl = 1 \n",
    "noiselvl = 5 \n",
    "livabilitylvl = 5\n",
    "amenitieslvl = 2\n",
    "costoflivinglvl = 4\n",
    "crimelvl = 5\n",
    "educationlvl = 0\n",
    "employmentlvl = 2\n",
    "housinglvl = 4\n",
    "weatherlvl = 2\n",
    "\n",
    "dictlvl = {'walklvl': walklvl, 'transitlvl':transitlvl, 'bikelvl':bikelvl, 'noiselvl':noiselvl,\n",
    "          'livabilitylvl':livabilitylvl, 'amenitieslvl':amenitieslvl, 'costoflivinglvl':costoflivinglvl,\n",
    "          'crimelvl':crimelvl, 'educationlvl':educationlvl, 'employmentlvl':employmentlvl,\n",
    "          'housinglvl':housinglvl, 'weatherlvl':weatherlvl}\n"
   ]
  },
  {
   "cell_type": "markdown",
   "metadata": {},
   "source": [
    "## Processing the Data"
   ]
  },
  {
   "cell_type": "markdown",
   "metadata": {},
   "source": [
    "The method getDF() takes a filename as a parameter. This is assumed to be an Excel file.\n",
    "\n",
    "It returns a DataFrame based on the given file."
   ]
  },
  {
   "cell_type": "code",
   "execution_count": 4,
   "metadata": {
    "collapsed": true
   },
   "outputs": [],
   "source": [
    "#Creates a data frame out of an excel file\n",
    "\n",
    "def getDF(filename):\n",
    "    xl = pd.ExcelFile(filename)\n",
    "    df = xl.parse('listings_merge')\n",
    "    df = df.rename(columns={\"score\": \"noisescore\"})\n",
    "    return df"
   ]
  },
  {
   "cell_type": "markdown",
   "metadata": {},
   "source": [
    "The method prepDF() takes a dataframe as a parameter.\n",
    "\n",
    "It changes the columns with letter scores into number scores (out of 100).\n",
    "\n",
    "It then checks to see if any columns in the dataframe have a the same value for each row, or if they have NaN in each row. In this case, it will let the user know that this criterion did not impact the ratings."
   ]
  },
  {
   "cell_type": "code",
   "execution_count": 5,
   "metadata": {
    "collapsed": true
   },
   "outputs": [],
   "source": [
    "#Prepares the data\n",
    "\n",
    "def prepDF(df2):\n",
    "   \n",
    "    #Change letter grade columns to a score grade out of 100\n",
    "    lettercol = ['Amenities', 'Cost of Living', 'Crime', 'Education', 'Employment', 'Housing', 'Weather']\n",
    "    for index, row in df2.iterrows():\n",
    "        for col in lettercol:\n",
    "            if df2.at[index, col] == 'A+':\n",
    "                df2.at[index, col] = 100\n",
    "            elif df2.at[index, col] == 'A':\n",
    "                df2.at[index, col] = 96\n",
    "            elif df2.at[index, col] == 'A-':\n",
    "                df2.at[index, col] = 92\n",
    "            elif df2.at[index, col] == 'B+':\n",
    "                df2.at[index, col] = 89\n",
    "            elif df2.at[index, col] == 'B':\n",
    "                df2.at[index, col] = 86\n",
    "            elif df2.at[index, col] == 'B-':\n",
    "                df2.at[index, col] = 82\n",
    "            elif df2.at[index, col] == 'C+':\n",
    "                df2.at[index, col] = 79\n",
    "            elif df2.at[index, col] == 'C':\n",
    "                df2.at[index, col] = 76\n",
    "            elif df2.at[index, col] == 'C-':\n",
    "                df2.at[index, col] = 72\n",
    "            elif df2.at[index, col] == 'D+':\n",
    "                df2.at[index, col] = 67\n",
    "            elif df2.at[index, col] == 'D':\n",
    "                df2.at[index, col] = 66\n",
    "            elif df2.at[index, col] == 'D-':\n",
    "                df2.at[index, col] = 62\n",
    "            elif df2.at[index,col] == 'F':\n",
    "                df2.at[index, col] = 20\n",
    "    \n",
    "    #Check if all values in columns are the same\n",
    "    #If they are all the same, let user know they didn't impact ranking\n",
    "    allcol = ['url', 'walkscore', 'transitscore', 'bikescore', 'noisescore', 'Livability', 'Amenities', 'Cost of Living', 'Crime', 'Education', 'Employment', 'Housing', 'Weather']\n",
    "    for col in allcol:\n",
    "        uniques = df2[col].nunique()\n",
    "        if(uniques == 1 or df2[col].isnull().all()):\n",
    "            print('The value of the ' + col + ' did not impact the ranking. All values were: ' + str(df2.at[index, col]))\n",
    "            \n",
    "    return df2"
   ]
  },
  {
   "cell_type": "code",
   "execution_count": 6,
   "metadata": {
    "collapsed": true
   },
   "outputs": [],
   "source": [
    "filePitt = 'ApartmentsPitt.xlsx'\n",
    "full_pitt = getDF(filePitt)"
   ]
  },
  {
   "cell_type": "code",
   "execution_count": 7,
   "metadata": {},
   "outputs": [
    {
     "name": "stdout",
     "output_type": "stream",
     "text": [
      "The value of the transitscore did not impact the ranking. All values were: nan\n",
      "The value of the Weather did not impact the ranking. All values were: 86\n"
     ]
    }
   ],
   "source": [
    "# Prints what variables did not impact the rating and why\n",
    "full_pitt2 = prepDF(full_pitt)\n",
    "# Creates a new data frame with the a specific set of columns to be processed\n",
    "dfPitt = DataFrame(full_pitt,columns=['url','lat','long', 'walkscore', 'transitscore', 'bikescore', 'noisescore', 'Livability', 'Amenities', 'Cost of Living', 'Crime', 'Education', 'Employment', 'Housing', 'Weather'])"
   ]
  },
  {
   "cell_type": "markdown",
   "metadata": {},
   "source": [
    "The method getScores() takes two dicts as input:\n",
    "1. scores (a dict with the value of the variable e.g. a walk score, a bike score, etc.)\n",
    "2. dictlvl (a dict with the user-given ratings for the criteria)\n",
    "\n",
    "It then calculates a score by taking the sum of the product of the value of each criteria and the user-given rating."
   ]
  },
  {
   "cell_type": "code",
   "execution_count": 8,
   "metadata": {
    "collapsed": true
   },
   "outputs": [],
   "source": [
    "# Gets the rating/score for a particular listing\n",
    "\n",
    "def getScore(scores, dictlvl):\n",
    "    score = scores['walkscore']*dictlvl['walklvl'] + scores['transitscore']*dictlvl['transitlvl'] + scores['bikescore']*dictlvl['bikelvl'] + scores['noisescore']*dictlvl['noiselvl'] + scores['livabilityscore']*dictlvl['livabilitylvl'] + scores['amenitiesscore']*dictlvl['amenitieslvl'] + scores['costoflivingscore']*dictlvl['costoflivinglvl'] + scores['crimescore']*dictlvl['crimelvl'] + scores['educationscore']*dictlvl['educationlvl'] + scores['employmentscore']*dictlvl['employmentlvl'] + scores['housingscore']*dictlvl['housinglvl'] + scores['weatherscore']*dictlvl['weatherlvl']\n",
    "    return score"
   ]
  },
  {
   "cell_type": "markdown",
   "metadata": {},
   "source": [
    "The method addRating() takes a dataframe as a parameter. It iterates through the rows of the data frame and adds a rating for the listing to the data frame. It returns the updated data frame."
   ]
  },
  {
   "cell_type": "code",
   "execution_count": 9,
   "metadata": {
    "collapsed": true
   },
   "outputs": [],
   "source": [
    "#Adds the rating as as column to the data frame\n",
    "\n",
    "def addRating(df):\n",
    "    dict = {}\n",
    "    for index, row in df.iterrows(): #iterates through the rows\n",
    "        # gets the score for each criteria\n",
    "        walkscore = row['walkscore']\n",
    "        transitscore = row['transitscore']\n",
    "        bikescore = row['bikescore']\n",
    "        noisescore = row['noisescore']\n",
    "        livabilityscore = row['Livability']\n",
    "        amenitiesscore = row['Amenities']\n",
    "        costoflivingscore = row['Cost of Living']\n",
    "        crimescore = row['Crime']\n",
    "        educationscore = row['Education']\n",
    "        employmentscore = row['Employment']\n",
    "        housingscore = row['Housing']\n",
    "        weatherscore = row['Weather']\n",
    "\n",
    "        # if the score is NaN, then set the score = 0\n",
    "        if np.isnan(walkscore):\n",
    "            walkscore=0\n",
    "        if np.isnan(transitscore):\n",
    "            transitscore=0\n",
    "        if np.isnan(bikescore):\n",
    "            bikescore=0\n",
    "        if np.isnan(noisescore):\n",
    "            noisescore=0\n",
    "        if np.isnan(livabilityscore):\n",
    "            livabilityscore=0\n",
    "        if np.isnan(amenitiesscore):\n",
    "            amenitiesscore=0\n",
    "        if np.isnan(costoflivingscore):\n",
    "            costoflivingscore=0\n",
    "        if np.isnan(crimescore):\n",
    "            crimescore=0\n",
    "        if np.isnan(educationscore):\n",
    "            educationscore=0\n",
    "        if np.isnan(employmentscore):\n",
    "            employmentscore=0\n",
    "        if np.isnan(housingscore):\n",
    "            housingscore=0\n",
    "        if np.isnan(weatherscore):\n",
    "            weatherscore=0\n",
    "\n",
    "        dictscores = {'walkscore':walkscore, 'transitscore':transitscore, 'bikescore': bikescore,\n",
    "                     'noisescore':noisescore, 'livabilityscore':livabilityscore, 'amenitiesscore':amenitiesscore,\n",
    "                     'costoflivingscore':costoflivingscore, 'crimescore':crimescore, 'educationscore':educationscore,\n",
    "                     'employmentscore':employmentscore, 'housingscore':housingscore, 'weatherscore':weatherscore}\n",
    "\n",
    "        score = getScore(dictscores, dictlvl) # gets a score/rating for the listing\n",
    "\n",
    "        dict[index] = score\n",
    "        df['rating'] = pd.Series(dict) #adds the rating to the given data frame\n",
    "        \n",
    "    return df"
   ]
  },
  {
   "cell_type": "code",
   "execution_count": 10,
   "metadata": {
    "collapsed": true
   },
   "outputs": [],
   "source": [
    "dfPitt = addRating(dfPitt)\n",
    "full_pitt2 = addRating(full_pitt)"
   ]
  },
  {
   "cell_type": "code",
   "execution_count": 11,
   "metadata": {},
   "outputs": [
    {
     "data": {
      "text/plain": [
       "count     314.000000\n",
       "mean     2188.675159\n",
       "std       201.353907\n",
       "min      1725.000000\n",
       "25%      2046.000000\n",
       "50%      2169.000000\n",
       "75%      2284.750000\n",
       "max      2829.000000\n",
       "Name: rating, dtype: float64"
      ]
     },
     "execution_count": 11,
     "metadata": {},
     "output_type": "execute_result"
    }
   ],
   "source": [
    "# some statistics about the rating for the given data\n",
    "dfPitt['rating'].describe()"
   ]
  },
  {
   "cell_type": "markdown",
   "metadata": {},
   "source": [
    "The method topPerdf() takes a dataframe and a percentile value as parameters. It then returns a sorted dataframe with only the top listings in that given percentile.\n",
    "\n",
    "For example, if per = 90, then it shows listings in the 90th percentile based on the ratings."
   ]
  },
  {
   "cell_type": "code",
   "execution_count": 12,
   "metadata": {
    "collapsed": true
   },
   "outputs": [],
   "source": [
    "def topPerdf(df, per):\n",
    "   \n",
    "    per = per/100\n",
    "    \n",
    "    top10p = df[df['rating']>df['rating'].quantile(per)]\n",
    "    return top10p.sort_values(by='rating', ascending = False)"
   ]
  },
  {
   "cell_type": "code",
   "execution_count": 13,
   "metadata": {
    "collapsed": true
   },
   "outputs": [],
   "source": [
    "topPerPitt = topPerdf(dfPitt, 95) #get the top 95th percentile listings based on ranking"
   ]
  },
  {
   "cell_type": "code",
   "execution_count": 14,
   "metadata": {
    "collapsed": true
   },
   "outputs": [],
   "source": [
    "#Preparing the full dataframe so I can merge additional columns with the ranked data frame\n",
    "sortedFullPitt = full_pitt2.sort_values(by='rating', ascending = False)\n",
    "sortedFullPitt.index = range(1,len(sortedFullPitt.index)+1)"
   ]
  },
  {
   "cell_type": "code",
   "execution_count": 15,
   "metadata": {
    "collapsed": true
   },
   "outputs": [],
   "source": [
    "#Adding some informative columns\n",
    "topPerPitt_addCol = topPerPitt.join(DataFrame(sortedFullPitt['address']))\n",
    "topPerPitt_addCol = topPerPitt_addCol.join(DataFrame(sortedFullPitt['postalCode']))\n",
    "topPerPitt_addCol = topPerPitt_addCol.join(DataFrame(sortedFullPitt['telephone']))\n",
    "topPerPitt_addCol = topPerPitt_addCol.join(DataFrame(sortedFullPitt['type']))\n",
    "topPerPitt_addCol = topPerPitt_addCol.join(DataFrame(sortedFullPitt['neighborhood']))"
   ]
  },
  {
   "cell_type": "code",
   "execution_count": 16,
   "metadata": {
    "collapsed": true
   },
   "outputs": [],
   "source": [
    "#maps column name to importance rating given\n",
    "dictColNameLvl = {'walkscore': walklvl, 'transitscore':transitlvl, 'bikescore':bikelvl, 'noisescore':noiselvl,\n",
    "          'Livability':livabilitylvl, 'Amenities':amenitieslvl, 'Cost of Living':costoflivinglvl,\n",
    "          'Crime':crimelvl, 'Education':educationlvl, 'Employment':employmentlvl,\n",
    "          'Housing':housinglvl, 'Weather':weatherlvl}"
   ]
  },
  {
   "cell_type": "code",
   "execution_count": 17,
   "metadata": {
    "collapsed": true
   },
   "outputs": [],
   "source": [
    "lvl5 = []\n",
    "lvl4 = []\n",
    "lvl3 = []\n",
    "lvl2 = []\n",
    "lvl1 = []\n",
    "lvl0 = []\n",
    "for col in dictColNameLvl:\n",
    "    if dictColNameLvl[col] == 5:\n",
    "        lvl5.append(col)\n",
    "    if dictColNameLvl[col] == 4:\n",
    "        lvl4.append(col)\n",
    "    if dictColNameLvl[col] == 3:\n",
    "        lvl3.append(col)\n",
    "    if dictColNameLvl[col] == 2:\n",
    "        lvl2.append(col)\n",
    "    if dictColNameLvl[col] == 1:\n",
    "        lvl1.append(col)\n",
    "    if dictColNameLvl[col] == 0:\n",
    "        lvl0.append(col)\n",
    "\n",
    "all_lvl = []\n",
    "all_lvl.append('rating')\n",
    "all_lvl.append('url')\n",
    "all_lvl.append('address')\n",
    "all_lvl.append('lat')\n",
    "all_lvl.append('long')\n",
    "all_lvl.append('postalCode')\n",
    "all_lvl.append('telephone')\n",
    "all_lvl.append('type')\n",
    "all_lvl.append('neighborhood')\n",
    "for x in lvl5:\n",
    "    all_lvl.append(x)\n",
    "for x in lvl4:\n",
    "    all_lvl.append(x)\n",
    "for x in lvl3:\n",
    "    all_lvl.append(x)\n",
    "for x in lvl2:\n",
    "    all_lvl.append(x)\n",
    "for x in lvl1:\n",
    "    all_lvl.append(x)\n",
    "for x in lvl0:\n",
    "    all_lvl.append(x)\n",
    "\n",
    "len5=len(lvl5)+1\n",
    "len4=len(lvl4)+1\n",
    "len3=len(lvl3)+1\n",
    "len2=len(lvl2)+1\n",
    "len1=len(lvl1)+1\n",
    "len0=len(lvl0)+1\n",
    "\n",
    "colName = []\n",
    "colName.append('')\n",
    "colName.append('')\n",
    "colName.append('')\n",
    "colName.append('')\n",
    "colName.append('')\n",
    "colName.append('')\n",
    "colName.append('')\n",
    "colName.append('')\n",
    "colName.append('')\n",
    "for x in range(1,len5):\n",
    "    colName.append('5')\n",
    "for x in range(1,len4):\n",
    "    colName.append('4')\n",
    "for x in range(1,len3):\n",
    "    colName.append('3')\n",
    "for x in range(1,len2):\n",
    "    colName.append('2')\n",
    "for x in range(1,len1):\n",
    "    colName.append('1')\n",
    "for x in range(1,len0):\n",
    "    colName.append('0')"
   ]
  },
  {
   "cell_type": "code",
   "execution_count": 18,
   "metadata": {
    "collapsed": true
   },
   "outputs": [],
   "source": [
    "#Adding a column heading that shows the rated importance for each category\n",
    "final_display_Pitt = topPerPitt_addCol[all_lvl]\n",
    "arrays = [colName, all_lvl]\n",
    "final_display_Pitt.columns = pd.MultiIndex.from_arrays(arrays, names=['Imp. Rating',''])\n",
    "final_display_Pitt.index = range(1,len(final_display_Pitt.index)+1) #have the index as a ranking from 1-length\n",
    "final_display_Pitt = final_display_Pitt.drop(labels='0', level=0, axis = 1) #drop the columns that were given an importance of 0"
   ]
  },
  {
   "cell_type": "code",
   "execution_count": 19,
   "metadata": {
    "collapsed": true
   },
   "outputs": [],
   "source": [
    "#adding a row that shows the local average of the top percentile listings for each category\n",
    "localAvgRow = [int(topPerPitt['rating'].mean()),'','','','','','','','',\n",
    "            int(topPerPitt[all_lvl[9]].mean()),int(topPerPitt[all_lvl[10]].mean()),\n",
    "            int(topPerPitt[all_lvl[11]].mean()),int(topPerPitt[all_lvl[12]].mean()),\n",
    "            int(topPerPitt[all_lvl[13]].mean()),int(topPerPitt[all_lvl[14]].mean()),\n",
    "            int(topPerPitt[all_lvl[15]].mean()),int(topPerPitt[all_lvl[16]].mean()),\n",
    "            int(topPerPitt[all_lvl[17]].mean()),int(topPerPitt[all_lvl[18]].mean())]\n",
    "final_display_Pitt.loc['Local Avg'] = localAvgRow\n",
    "\n",
    "#adding a row that shows the overall average of the listings for each category\n",
    "overallAvgRow = [int(sortedFullPitt['rating'].mean()),'','','','','','','','',\n",
    "            int(sortedFullPitt[all_lvl[9]].mean()),int(sortedFullPitt[all_lvl[10]].mean()),\n",
    "            int(sortedFullPitt[all_lvl[11]].mean()),int(sortedFullPitt[all_lvl[12]].mean()),\n",
    "            int(sortedFullPitt[all_lvl[13]].mean()),int(sortedFullPitt[all_lvl[14]].mean()),\n",
    "            int(sortedFullPitt[all_lvl[15]].mean()),int(sortedFullPitt[all_lvl[16]].mean()),\n",
    "            int(sortedFullPitt[all_lvl[17]].mean()),int(sortedFullPitt[all_lvl[18]].mean())]\n",
    "final_display_Pitt.loc['Overall Avg'] = overallAvgRow"
   ]
  },
  {
   "cell_type": "code",
   "execution_count": 20,
   "metadata": {
    "collapsed": true
   },
   "outputs": [],
   "source": [
    "def getMap(df):\n",
    "    loc = []\n",
    "    for index, row in df.iterrows():\n",
    "        details = {'lat':row['lat'],'long':row['long'],'url':row['url'],'address':row['address'],'rating':row['rating'],'telephone':row['telephone']}\n",
    "        loc.append(details)\n",
    "    \n",
    "    folium_map = folium.Map(location=[loc[0]['lat'], loc[0]['long']])\n",
    "    \n",
    "    for i in range(1,len(loc)):\n",
    "    \n",
    "                    \n",
    "        listing_detail = folium.Html(('Listing URL: ' + '<a href=\"' + loc[i]['url'] + '\"target=\"_blank\">'+ re.sub(r\"[']+\", \"\\\\\\\\'\", str(loc[i]['url'])[:45]) +'</a>'+ '<br>'+\n",
    "                         'Rating: ' + str(loc[i]['rating'])+ '<br>'+\n",
    "                         'Address: ' + loc[i]['address']+ '<br>'+\n",
    "                         'Telephone: ' + str(loc[i]['telephone'])),script=True)\n",
    "        \n",
    "        folium.Marker(location=[loc[i]['lat'], loc[i]['long']],popup=folium.Popup(listing_detail)).add_to(folium_map)\n",
    "    folium_map.fit_bounds(folium_map.get_bounds())\n",
    "    return folium_map"
   ]
  },
  {
   "cell_type": "code",
   "execution_count": 21,
   "metadata": {
    "collapsed": true
   },
   "outputs": [],
   "source": [
    "#Creates a histogram of all listings for a selected column and highlights the ones that we display in red\n",
    "\n",
    "def getHistoHighlight(title, column, reg, topPer):\n",
    "    col = reg[column].dropna().tolist()\n",
    "    topPercol = topPer[column].dropna().tolist()\n",
    "\n",
    "    try:\n",
    "        x = sns.distplot(col, bins=10, kde=False, rug=True)\n",
    "        #Highlight the results we are showing them\n",
    "        x.axvspan(min(topPercol), max(topPercol), color='red', alpha=0.5)\n",
    "        x.set(xlabel = title ,ylabel = \"Frequency\")\n",
    "        x.set_title(title + ' Historgram')\n",
    "        return plt.show()\n",
    "    \n",
    "    except:\n",
    "        print('could not plot ' + column)"
   ]
  },
  {
   "cell_type": "code",
   "execution_count": 24,
   "metadata": {
    "collapsed": true
   },
   "outputs": [],
   "source": [
    "# Creates a correlation plot between all the features\n",
    "\n",
    "def getCorrPlot(df):\n",
    "    d = df.iloc[ :, 3:-1]\n",
    "    d = d.fillna(value = 0)\n",
    "    f, ax = plt.subplots(figsize=(10, 8))\n",
    "    corr = d.corr()\n",
    "    x = sns.heatmap(corr, mask=np.zeros_like(corr, dtype=np.bool), cmap=sns.diverging_palette(220, 10, as_cmap=True),\n",
    "                square=True, ax=ax)\n",
    "    x.set_xticklabels(x.get_xticklabels(),rotation = 45)\n",
    "    return plt.show()\n",
    "\n"
   ]
  },
  {
   "cell_type": "markdown",
   "metadata": {},
   "source": [
    "## Displaying the Results to the User"
   ]
  },
  {
   "cell_type": "markdown",
   "metadata": {},
   "source": [
    "### A Table Format"
   ]
  },
  {
   "cell_type": "markdown",
   "metadata": {},
   "source": [
    "The data frame displayed below shows the user some useful information about each of the listings in the top specified percentile. It is a ranked listing.\n",
    "\n",
    "At the bottom of the table, there are also averages for the ranking and each of the criteria based on:\n",
    "- Local average (i.e. from the top percentile)\n",
    "- Overall average (i.e. from all the resulting listings that matched the initial search)"
   ]
  },
  {
   "cell_type": "code",
   "execution_count": 22,
   "metadata": {},
   "outputs": [
    {
     "data": {
      "text/html": [
       "<div>\n",
       "<style>\n",
       "    .dataframe thead tr:only-child th {\n",
       "        text-align: right;\n",
       "    }\n",
       "\n",
       "    .dataframe thead th {\n",
       "        text-align: left;\n",
       "    }\n",
       "\n",
       "    .dataframe tbody tr th {\n",
       "        vertical-align: top;\n",
       "    }\n",
       "</style>\n",
       "<table border=\"1\" class=\"dataframe\">\n",
       "  <thead>\n",
       "    <tr>\n",
       "      <th>Imp. Rating</th>\n",
       "      <th colspan=\"9\" halign=\"left\"></th>\n",
       "      <th colspan=\"3\" halign=\"left\">5</th>\n",
       "      <th colspan=\"3\" halign=\"left\">4</th>\n",
       "      <th colspan=\"3\" halign=\"left\">2</th>\n",
       "      <th>1</th>\n",
       "    </tr>\n",
       "    <tr>\n",
       "      <th></th>\n",
       "      <th>rating</th>\n",
       "      <th>url</th>\n",
       "      <th>address</th>\n",
       "      <th>lat</th>\n",
       "      <th>long</th>\n",
       "      <th>postalCode</th>\n",
       "      <th>telephone</th>\n",
       "      <th>type</th>\n",
       "      <th>neighborhood</th>\n",
       "      <th>noisescore</th>\n",
       "      <th>Livability</th>\n",
       "      <th>Crime</th>\n",
       "      <th>walkscore</th>\n",
       "      <th>Cost of Living</th>\n",
       "      <th>Housing</th>\n",
       "      <th>Amenities</th>\n",
       "      <th>Employment</th>\n",
       "      <th>Weather</th>\n",
       "      <th>bikescore</th>\n",
       "    </tr>\n",
       "  </thead>\n",
       "  <tbody>\n",
       "    <tr>\n",
       "      <th>1</th>\n",
       "      <td>2829.0</td>\n",
       "      <td>https://www.apartments.com/582-peebles-st-pitt...</td>\n",
       "      <td>138 S 24th St</td>\n",
       "      <td>40.44</td>\n",
       "      <td>-79.8948</td>\n",
       "      <td>15203</td>\n",
       "      <td>+1-412-904-1083</td>\n",
       "      <td>SingleFamilyResidence</td>\n",
       "      <td>South Side Flats</td>\n",
       "      <td>77</td>\n",
       "      <td>82</td>\n",
       "      <td>100</td>\n",
       "      <td>75</td>\n",
       "      <td>62</td>\n",
       "      <td>86</td>\n",
       "      <td>100</td>\n",
       "      <td>100</td>\n",
       "      <td>86</td>\n",
       "      <td>70.0</td>\n",
       "    </tr>\n",
       "    <tr>\n",
       "      <th>2</th>\n",
       "      <td>2732.0</td>\n",
       "      <td>https://www.apartments.com/1215-shady-ave-pitt...</td>\n",
       "      <td>970 Elizabeth St</td>\n",
       "      <td>40.4472</td>\n",
       "      <td>-79.9211</td>\n",
       "      <td>15221</td>\n",
       "      <td>+1-724-996-6683</td>\n",
       "      <td>SingleFamilyResidence</td>\n",
       "      <td>Pittsburgh</td>\n",
       "      <td>76</td>\n",
       "      <td>82</td>\n",
       "      <td>100</td>\n",
       "      <td>55</td>\n",
       "      <td>62</td>\n",
       "      <td>86</td>\n",
       "      <td>100</td>\n",
       "      <td>100</td>\n",
       "      <td>86</td>\n",
       "      <td>58.0</td>\n",
       "    </tr>\n",
       "    <tr>\n",
       "      <th>3</th>\n",
       "      <td>2704.0</td>\n",
       "      <td>https://www.apartments.com/5706-darlington-rd-...</td>\n",
       "      <td>1818 Mary St</td>\n",
       "      <td>40.4366</td>\n",
       "      <td>-79.9246</td>\n",
       "      <td>15203</td>\n",
       "      <td>+1-412-727-8599</td>\n",
       "      <td>ApartmentComplex</td>\n",
       "      <td>South Side Flats</td>\n",
       "      <td>74</td>\n",
       "      <td>78</td>\n",
       "      <td>72</td>\n",
       "      <td>93</td>\n",
       "      <td>66</td>\n",
       "      <td>79</td>\n",
       "      <td>100</td>\n",
       "      <td>92</td>\n",
       "      <td>86</td>\n",
       "      <td>76.0</td>\n",
       "    </tr>\n",
       "    <tr>\n",
       "      <th>4</th>\n",
       "      <td>2704.0</td>\n",
       "      <td>https://www.apartments.com/5700-darlington-rd-...</td>\n",
       "      <td>3617 Dawson St</td>\n",
       "      <td>40.4372</td>\n",
       "      <td>-79.9246</td>\n",
       "      <td>15213</td>\n",
       "      <td>+1-412-620-6373</td>\n",
       "      <td>ApartmentComplex</td>\n",
       "      <td>Central Oakland</td>\n",
       "      <td>74</td>\n",
       "      <td>78</td>\n",
       "      <td>72</td>\n",
       "      <td>93</td>\n",
       "      <td>66</td>\n",
       "      <td>79</td>\n",
       "      <td>100</td>\n",
       "      <td>92</td>\n",
       "      <td>86</td>\n",
       "      <td>76.0</td>\n",
       "    </tr>\n",
       "    <tr>\n",
       "      <th>5</th>\n",
       "      <td>2704.0</td>\n",
       "      <td>https://www.apartments.com/5700-darlington-rd-...</td>\n",
       "      <td>734 S Millvale Ave</td>\n",
       "      <td>40.4372</td>\n",
       "      <td>-79.9246</td>\n",
       "      <td>15213</td>\n",
       "      <td>+1-844-730-2032</td>\n",
       "      <td>ApartmentComplex</td>\n",
       "      <td>Bloomfield</td>\n",
       "      <td>74</td>\n",
       "      <td>78</td>\n",
       "      <td>72</td>\n",
       "      <td>93</td>\n",
       "      <td>66</td>\n",
       "      <td>79</td>\n",
       "      <td>100</td>\n",
       "      <td>92</td>\n",
       "      <td>86</td>\n",
       "      <td>76.0</td>\n",
       "    </tr>\n",
       "    <tr>\n",
       "      <th>6</th>\n",
       "      <td>2684.0</td>\n",
       "      <td>https://www.apartments.com/5710-beacon-st-pitt...</td>\n",
       "      <td>1213 Shady Ave</td>\n",
       "      <td>40.4343</td>\n",
       "      <td>-79.9242</td>\n",
       "      <td>15232</td>\n",
       "      <td>+1-412-271-5550</td>\n",
       "      <td>SingleFamilyResidence</td>\n",
       "      <td>Squirrel Hill North</td>\n",
       "      <td>73</td>\n",
       "      <td>78</td>\n",
       "      <td>72</td>\n",
       "      <td>91</td>\n",
       "      <td>66</td>\n",
       "      <td>79</td>\n",
       "      <td>100</td>\n",
       "      <td>92</td>\n",
       "      <td>86</td>\n",
       "      <td>69.0</td>\n",
       "    </tr>\n",
       "    <tr>\n",
       "      <th>7</th>\n",
       "      <td>2684.0</td>\n",
       "      <td>https://www.apartments.com/5710-beacon-st-pitt...</td>\n",
       "      <td>734 S Millvale Ave</td>\n",
       "      <td>40.4343</td>\n",
       "      <td>-79.9242</td>\n",
       "      <td>15213</td>\n",
       "      <td>+1-844-680-2972</td>\n",
       "      <td>ApartmentComplex</td>\n",
       "      <td>Bloomfield</td>\n",
       "      <td>73</td>\n",
       "      <td>78</td>\n",
       "      <td>72</td>\n",
       "      <td>91</td>\n",
       "      <td>66</td>\n",
       "      <td>79</td>\n",
       "      <td>100</td>\n",
       "      <td>92</td>\n",
       "      <td>86</td>\n",
       "      <td>69.0</td>\n",
       "    </tr>\n",
       "    <tr>\n",
       "      <th>8</th>\n",
       "      <td>2672.0</td>\n",
       "      <td>https://www.apartments.com/2112-murray-ave-pit...</td>\n",
       "      <td>132 Southern Ave</td>\n",
       "      <td>40.4333</td>\n",
       "      <td>-79.9232</td>\n",
       "      <td>15211</td>\n",
       "      <td>+1-412-212-3261</td>\n",
       "      <td>SingleFamilyResidence</td>\n",
       "      <td>Mount Washington</td>\n",
       "      <td>70</td>\n",
       "      <td>78</td>\n",
       "      <td>72</td>\n",
       "      <td>92</td>\n",
       "      <td>66</td>\n",
       "      <td>79</td>\n",
       "      <td>100</td>\n",
       "      <td>92</td>\n",
       "      <td>86</td>\n",
       "      <td>68.0</td>\n",
       "    </tr>\n",
       "    <tr>\n",
       "      <th>9</th>\n",
       "      <td>2649.0</td>\n",
       "      <td>https://www.apartments.com/5619-melvin-st-pitt...</td>\n",
       "      <td>1417 Bellaire Pl</td>\n",
       "      <td>40.4305</td>\n",
       "      <td>-79.9267</td>\n",
       "      <td>15226</td>\n",
       "      <td>+1-724-900-2364</td>\n",
       "      <td>SingleFamilyResidence</td>\n",
       "      <td>Brookline</td>\n",
       "      <td>72</td>\n",
       "      <td>78</td>\n",
       "      <td>72</td>\n",
       "      <td>86</td>\n",
       "      <td>66</td>\n",
       "      <td>79</td>\n",
       "      <td>100</td>\n",
       "      <td>92</td>\n",
       "      <td>86</td>\n",
       "      <td>59.0</td>\n",
       "    </tr>\n",
       "    <tr>\n",
       "      <th>10</th>\n",
       "      <td>2648.0</td>\n",
       "      <td>https://www.apartments.com/6317-phillips-ave-p...</td>\n",
       "      <td>1122 Sarah St</td>\n",
       "      <td>40.4326</td>\n",
       "      <td>-79.9175</td>\n",
       "      <td>15203</td>\n",
       "      <td>+1-724-918-4499</td>\n",
       "      <td>SingleFamilyResidence</td>\n",
       "      <td>South Side Flats</td>\n",
       "      <td>75</td>\n",
       "      <td>78</td>\n",
       "      <td>72</td>\n",
       "      <td>80</td>\n",
       "      <td>66</td>\n",
       "      <td>79</td>\n",
       "      <td>100</td>\n",
       "      <td>92</td>\n",
       "      <td>86</td>\n",
       "      <td>67.0</td>\n",
       "    </tr>\n",
       "    <tr>\n",
       "      <th>11</th>\n",
       "      <td>2648.0</td>\n",
       "      <td>https://www.apartments.com/6327-waldron-st-pit...</td>\n",
       "      <td>250 Alries St</td>\n",
       "      <td>40.4319</td>\n",
       "      <td>-79.917</td>\n",
       "      <td>15210</td>\n",
       "      <td>+1-412-242-1400</td>\n",
       "      <td>SingleFamilyResidence</td>\n",
       "      <td>Carrick</td>\n",
       "      <td>75</td>\n",
       "      <td>78</td>\n",
       "      <td>72</td>\n",
       "      <td>80</td>\n",
       "      <td>66</td>\n",
       "      <td>79</td>\n",
       "      <td>100</td>\n",
       "      <td>92</td>\n",
       "      <td>86</td>\n",
       "      <td>67.0</td>\n",
       "    </tr>\n",
       "    <tr>\n",
       "      <th>12</th>\n",
       "      <td>2643.0</td>\n",
       "      <td>https://www.apartments.com/6313-phillips-ave-p...</td>\n",
       "      <td>90 S 22nd St</td>\n",
       "      <td>40.4327</td>\n",
       "      <td>-79.9177</td>\n",
       "      <td>15203</td>\n",
       "      <td>+1-412-545-5797</td>\n",
       "      <td>SingleFamilyResidence</td>\n",
       "      <td>South Side Flats</td>\n",
       "      <td>74</td>\n",
       "      <td>78</td>\n",
       "      <td>72</td>\n",
       "      <td>80</td>\n",
       "      <td>66</td>\n",
       "      <td>79</td>\n",
       "      <td>100</td>\n",
       "      <td>92</td>\n",
       "      <td>86</td>\n",
       "      <td>67.0</td>\n",
       "    </tr>\n",
       "    <tr>\n",
       "      <th>13</th>\n",
       "      <td>2642.0</td>\n",
       "      <td>https://www.apartments.com/5552-phillips-ave-p...</td>\n",
       "      <td>200 Cliffside Manor Dr</td>\n",
       "      <td>40.4308</td>\n",
       "      <td>-79.9278</td>\n",
       "      <td>15202</td>\n",
       "      <td>+1-844-264-3671</td>\n",
       "      <td>ApartmentComplex</td>\n",
       "      <td>United States</td>\n",
       "      <td>72</td>\n",
       "      <td>78</td>\n",
       "      <td>72</td>\n",
       "      <td>84</td>\n",
       "      <td>66</td>\n",
       "      <td>79</td>\n",
       "      <td>100</td>\n",
       "      <td>92</td>\n",
       "      <td>86</td>\n",
       "      <td>60.0</td>\n",
       "    </tr>\n",
       "    <tr>\n",
       "      <th>14</th>\n",
       "      <td>2637.0</td>\n",
       "      <td>https://www.apartments.com/2283-shady-ave-pitt...</td>\n",
       "      <td>11513 Althea Dr</td>\n",
       "      <td>40.431</td>\n",
       "      <td>-79.9191</td>\n",
       "      <td>15235</td>\n",
       "      <td>+1-412-248-7368</td>\n",
       "      <td>SingleFamilyResidence</td>\n",
       "      <td>Pittsburgh</td>\n",
       "      <td>72</td>\n",
       "      <td>78</td>\n",
       "      <td>72</td>\n",
       "      <td>81</td>\n",
       "      <td>66</td>\n",
       "      <td>79</td>\n",
       "      <td>100</td>\n",
       "      <td>92</td>\n",
       "      <td>86</td>\n",
       "      <td>67.0</td>\n",
       "    </tr>\n",
       "    <tr>\n",
       "      <th>15</th>\n",
       "      <td>2637.0</td>\n",
       "      <td>https://www.apartments.com/2261-shady-ave-pitt...</td>\n",
       "      <td>2112 Pauline Ave</td>\n",
       "      <td>40.4314</td>\n",
       "      <td>-79.9184</td>\n",
       "      <td>15216</td>\n",
       "      <td>+1-724-290-7158</td>\n",
       "      <td>SingleFamilyResidence</td>\n",
       "      <td>Beechview</td>\n",
       "      <td>72</td>\n",
       "      <td>78</td>\n",
       "      <td>72</td>\n",
       "      <td>81</td>\n",
       "      <td>66</td>\n",
       "      <td>79</td>\n",
       "      <td>100</td>\n",
       "      <td>92</td>\n",
       "      <td>86</td>\n",
       "      <td>67.0</td>\n",
       "    </tr>\n",
       "    <tr>\n",
       "      <th>16</th>\n",
       "      <td>2634.0</td>\n",
       "      <td>https://www.apartments.com/2110-wendover-pl-pi...</td>\n",
       "      <td>5209 Columbo St</td>\n",
       "      <td>40.4317</td>\n",
       "      <td>-79.9294</td>\n",
       "      <td>15224</td>\n",
       "      <td>+1-724-740-3012</td>\n",
       "      <td>SingleFamilyResidence</td>\n",
       "      <td>Garfield</td>\n",
       "      <td>74</td>\n",
       "      <td>78</td>\n",
       "      <td>72</td>\n",
       "      <td>79</td>\n",
       "      <td>66</td>\n",
       "      <td>79</td>\n",
       "      <td>100</td>\n",
       "      <td>92</td>\n",
       "      <td>86</td>\n",
       "      <td>62.0</td>\n",
       "    </tr>\n",
       "    <tr>\n",
       "      <th>Local Avg</th>\n",
       "      <td>2678.0</td>\n",
       "      <td></td>\n",
       "      <td></td>\n",
       "      <td></td>\n",
       "      <td></td>\n",
       "      <td></td>\n",
       "      <td></td>\n",
       "      <td></td>\n",
       "      <td></td>\n",
       "      <td>73</td>\n",
       "      <td>78</td>\n",
       "      <td>75</td>\n",
       "      <td>83</td>\n",
       "      <td>65</td>\n",
       "      <td>79</td>\n",
       "      <td>100</td>\n",
       "      <td>93</td>\n",
       "      <td>86</td>\n",
       "      <td>67.0</td>\n",
       "    </tr>\n",
       "    <tr>\n",
       "      <th>Overall Avg</th>\n",
       "      <td>2188.0</td>\n",
       "      <td></td>\n",
       "      <td></td>\n",
       "      <td></td>\n",
       "      <td></td>\n",
       "      <td></td>\n",
       "      <td></td>\n",
       "      <td></td>\n",
       "      <td></td>\n",
       "      <td>75</td>\n",
       "      <td>64</td>\n",
       "      <td>29</td>\n",
       "      <td>64</td>\n",
       "      <td>75</td>\n",
       "      <td>61</td>\n",
       "      <td>88</td>\n",
       "      <td>74</td>\n",
       "      <td>86</td>\n",
       "      <td>46.0</td>\n",
       "    </tr>\n",
       "  </tbody>\n",
       "</table>\n",
       "</div>"
      ],
      "text/plain": [
       "Imp. Rating                                                             \\\n",
       "             rating                                                url   \n",
       "1            2829.0  https://www.apartments.com/582-peebles-st-pitt...   \n",
       "2            2732.0  https://www.apartments.com/1215-shady-ave-pitt...   \n",
       "3            2704.0  https://www.apartments.com/5706-darlington-rd-...   \n",
       "4            2704.0  https://www.apartments.com/5700-darlington-rd-...   \n",
       "5            2704.0  https://www.apartments.com/5700-darlington-rd-...   \n",
       "6            2684.0  https://www.apartments.com/5710-beacon-st-pitt...   \n",
       "7            2684.0  https://www.apartments.com/5710-beacon-st-pitt...   \n",
       "8            2672.0  https://www.apartments.com/2112-murray-ave-pit...   \n",
       "9            2649.0  https://www.apartments.com/5619-melvin-st-pitt...   \n",
       "10           2648.0  https://www.apartments.com/6317-phillips-ave-p...   \n",
       "11           2648.0  https://www.apartments.com/6327-waldron-st-pit...   \n",
       "12           2643.0  https://www.apartments.com/6313-phillips-ave-p...   \n",
       "13           2642.0  https://www.apartments.com/5552-phillips-ave-p...   \n",
       "14           2637.0  https://www.apartments.com/2283-shady-ave-pitt...   \n",
       "15           2637.0  https://www.apartments.com/2261-shady-ave-pitt...   \n",
       "16           2634.0  https://www.apartments.com/2110-wendover-pl-pi...   \n",
       "Local Avg    2678.0                                                      \n",
       "Overall Avg  2188.0                                                      \n",
       "\n",
       "Imp. Rating                                                       \\\n",
       "                            address      lat     long postalCode   \n",
       "1                     138 S 24th St    40.44 -79.8948      15203   \n",
       "2                  970 Elizabeth St  40.4472 -79.9211      15221   \n",
       "3                      1818 Mary St  40.4366 -79.9246      15203   \n",
       "4                    3617 Dawson St  40.4372 -79.9246      15213   \n",
       "5                734 S Millvale Ave  40.4372 -79.9246      15213   \n",
       "6                    1213 Shady Ave  40.4343 -79.9242      15232   \n",
       "7                734 S Millvale Ave  40.4343 -79.9242      15213   \n",
       "8                  132 Southern Ave  40.4333 -79.9232      15211   \n",
       "9                  1417 Bellaire Pl  40.4305 -79.9267      15226   \n",
       "10                    1122 Sarah St  40.4326 -79.9175      15203   \n",
       "11                    250 Alries St  40.4319  -79.917      15210   \n",
       "12                     90 S 22nd St  40.4327 -79.9177      15203   \n",
       "13           200 Cliffside Manor Dr  40.4308 -79.9278      15202   \n",
       "14                  11513 Althea Dr   40.431 -79.9191      15235   \n",
       "15                 2112 Pauline Ave  40.4314 -79.9184      15216   \n",
       "16                  5209 Columbo St  40.4317 -79.9294      15224   \n",
       "Local Avg                                                          \n",
       "Overall Avg                                                        \n",
       "\n",
       "Imp. Rating                                                               \\\n",
       "                   telephone                   type         neighborhood   \n",
       "1            +1-412-904-1083  SingleFamilyResidence     South Side Flats   \n",
       "2            +1-724-996-6683  SingleFamilyResidence           Pittsburgh   \n",
       "3            +1-412-727-8599       ApartmentComplex     South Side Flats   \n",
       "4            +1-412-620-6373       ApartmentComplex      Central Oakland   \n",
       "5            +1-844-730-2032       ApartmentComplex           Bloomfield   \n",
       "6            +1-412-271-5550  SingleFamilyResidence  Squirrel Hill North   \n",
       "7            +1-844-680-2972       ApartmentComplex           Bloomfield   \n",
       "8            +1-412-212-3261  SingleFamilyResidence     Mount Washington   \n",
       "9            +1-724-900-2364  SingleFamilyResidence            Brookline   \n",
       "10           +1-724-918-4499  SingleFamilyResidence     South Side Flats   \n",
       "11           +1-412-242-1400  SingleFamilyResidence              Carrick   \n",
       "12           +1-412-545-5797  SingleFamilyResidence     South Side Flats   \n",
       "13           +1-844-264-3671       ApartmentComplex        United States   \n",
       "14           +1-412-248-7368  SingleFamilyResidence           Pittsburgh   \n",
       "15           +1-724-290-7158  SingleFamilyResidence            Beechview   \n",
       "16           +1-724-740-3012  SingleFamilyResidence             Garfield   \n",
       "Local Avg                                                                  \n",
       "Overall Avg                                                                \n",
       "\n",
       "Imp. Rating          5                          4                         \\\n",
       "            noisescore Livability Crime walkscore Cost of Living Housing   \n",
       "1                   77         82   100        75             62      86   \n",
       "2                   76         82   100        55             62      86   \n",
       "3                   74         78    72        93             66      79   \n",
       "4                   74         78    72        93             66      79   \n",
       "5                   74         78    72        93             66      79   \n",
       "6                   73         78    72        91             66      79   \n",
       "7                   73         78    72        91             66      79   \n",
       "8                   70         78    72        92             66      79   \n",
       "9                   72         78    72        86             66      79   \n",
       "10                  75         78    72        80             66      79   \n",
       "11                  75         78    72        80             66      79   \n",
       "12                  74         78    72        80             66      79   \n",
       "13                  72         78    72        84             66      79   \n",
       "14                  72         78    72        81             66      79   \n",
       "15                  72         78    72        81             66      79   \n",
       "16                  74         78    72        79             66      79   \n",
       "Local Avg           73         78    75        83             65      79   \n",
       "Overall Avg         75         64    29        64             75      61   \n",
       "\n",
       "Imp. Rating         2                            1  \n",
       "            Amenities Employment Weather bikescore  \n",
       "1                 100        100      86      70.0  \n",
       "2                 100        100      86      58.0  \n",
       "3                 100         92      86      76.0  \n",
       "4                 100         92      86      76.0  \n",
       "5                 100         92      86      76.0  \n",
       "6                 100         92      86      69.0  \n",
       "7                 100         92      86      69.0  \n",
       "8                 100         92      86      68.0  \n",
       "9                 100         92      86      59.0  \n",
       "10                100         92      86      67.0  \n",
       "11                100         92      86      67.0  \n",
       "12                100         92      86      67.0  \n",
       "13                100         92      86      60.0  \n",
       "14                100         92      86      67.0  \n",
       "15                100         92      86      67.0  \n",
       "16                100         92      86      62.0  \n",
       "Local Avg         100         93      86      67.0  \n",
       "Overall Avg        88         74      86      46.0  "
      ]
     },
     "execution_count": 22,
     "metadata": {},
     "output_type": "execute_result"
    }
   ],
   "source": [
    "#The data frame to be displayed to the user\n",
    "final_display_Pitt"
   ]
  },
  {
   "cell_type": "markdown",
   "metadata": {},
   "source": [
    "### An Interactive Map Format"
   ]
  },
  {
   "cell_type": "markdown",
   "metadata": {},
   "source": [
    "This map below displays the listings in the top specified percentile. If a user clicks on one of the pins, it will display further information about that listing as well a hyperlink to the source listing where they can find further information."
   ]
  },
  {
   "cell_type": "code",
   "execution_count": 23,
   "metadata": {},
   "outputs": [
    {
     "data": {
      "text/html": [
       "<div style=\"width:100%;\"><div style=\"position:relative;width:100%;height:0;padding-bottom:60%;\"><iframe src=\"data:text/html;charset=utf-8;base64,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\" style=\"position:absolute;width:100%;height:100%;left:0;top:0;border:none !important;\" allowfullscreen webkitallowfullscreen mozallowfullscreen></iframe></div></div>"
      ],
      "text/plain": [
       "<folium.folium.Map at 0x2e931b29668>"
      ]
     },
     "execution_count": 23,
     "metadata": {},
     "output_type": "execute_result"
    }
   ],
   "source": [
    "listing_map = getMap(topPerPitt_addCol)\n",
    "listing_map"
   ]
  },
  {
   "cell_type": "markdown",
   "metadata": {},
   "source": [
    "### Visualizations"
   ]
  },
  {
   "cell_type": "markdown",
   "metadata": {},
   "source": [
    "This part of the code will display some informative visualizations about the results.\n",
    "\n",
    "The first chart displays the distribution of ratings in all the resulting listings, while highlighting the homes in the top specified percentile in red."
   ]
  },
  {
   "cell_type": "code",
   "execution_count": 25,
   "metadata": {},
   "outputs": [
    {
     "data": {
      "image/png": "[encoded data removed]",
      "text/plain": [
       "<matplotlib.figure.Figure at 0x24787b70ba8>"
      ]
     },
     "metadata": {},
     "output_type": "display_data"
    }
   ],
   "source": [
    "getHistoHighlight('Ratings', 'rating', dfPitt, topPerPitt)"
   ]
  },
  {
   "cell_type": "markdown",
   "metadata": {},
   "source": [
    "The following charts display the distribution of scores for all the criteria they rated on in all the resulting listings, while highlighting the homes in the top specified percentile in red.\n",
    "\n",
    "This allows the user to see where the homes that were displayed to them lie with respect to the state of homes in general.\n",
    "\n",
    "It also displays the rating that they gave the homes for reference."
   ]
  },
  {
   "cell_type": "code",
   "execution_count": 26,
   "metadata": {},
   "outputs": [
    {
     "name": "stdout",
     "output_type": "stream",
     "text": [
      "Importance of walkscore was rated as: 4\n"
     ]
    },
    {
     "data": {
      "image/png": "[encoded data removed]",
      "text/plain": [
       "<matplotlib.figure.Figure at 0x247882533c8>"
      ]
     },
     "metadata": {},
     "output_type": "display_data"
    },
    {
     "name": "stdout",
     "output_type": "stream",
     "text": [
      "Importance of bikescore was rated as: 1\n"
     ]
    },
    {
     "data": {
      "image/png": "[encoded data removed]",
      "text/plain": [
       "<matplotlib.figure.Figure at 0x24788231f28>"
      ]
     },
     "metadata": {},
     "output_type": "display_data"
    },
    {
     "name": "stdout",
     "output_type": "stream",
     "text": [
      "Importance of noisescore was rated as: 5\n"
     ]
    },
    {
     "data": {
      "image/png": "[encoded data removed]",
      "text/plain": [
       "<matplotlib.figure.Figure at 0x24788413dd8>"
      ]
     },
     "metadata": {},
     "output_type": "display_data"
    },
    {
     "name": "stdout",
     "output_type": "stream",
     "text": [
      "Importance of Livability was rated as: 5\n"
     ]
    },
    {
     "data": {
      "image/png": "[encoded data removed]",
      "text/plain": [
       "<matplotlib.figure.Figure at 0x2478806a358>"
      ]
     },
     "metadata": {},
     "output_type": "display_data"
    },
    {
     "name": "stdout",
     "output_type": "stream",
     "text": [
      "Importance of Amenities was rated as: 2\n"
     ]
    },
    {
     "data": {
      "image/png": "[encoded data removed]",
      "text/plain": [
       "<matplotlib.figure.Figure at 0x24787af7d30>"
      ]
     },
     "metadata": {},
     "output_type": "display_data"
    },
    {
     "name": "stdout",
     "output_type": "stream",
     "text": [
      "Importance of Cost of Living was rated as: 4\n"
     ]
    },
    {
     "data": {
      "image/png": "[encoded data removed]",
      "text/plain": [
       "<matplotlib.figure.Figure at 0x24788124048>"
      ]
     },
     "metadata": {},
     "output_type": "display_data"
    },
    {
     "name": "stdout",
     "output_type": "stream",
     "text": [
      "Importance of Crime was rated as: 5\n"
     ]
    },
    {
     "data": {
      "image/png": "[encoded data removed]",
      "text/plain": [
       "<matplotlib.figure.Figure at 0x247883f05c0>"
      ]
     },
     "metadata": {},
     "output_type": "display_data"
    },
    {
     "name": "stdout",
     "output_type": "stream",
     "text": [
      "Importance of Employment was rated as: 2\n"
     ]
    },
    {
     "data": {
      "image/png": "[encoded data removed]",
      "text/plain": [
       "<matplotlib.figure.Figure at 0x24788440780>"
      ]
     },
     "metadata": {},
     "output_type": "display_data"
    },
    {
     "name": "stdout",
     "output_type": "stream",
     "text": [
      "Importance of Housing was rated as: 4\n"
     ]
    },
    {
     "data": {
      "image/png": "[encoded data removed]",
      "text/plain": [
       "<matplotlib.figure.Figure at 0x24788900780>"
      ]
     },
     "metadata": {},
     "output_type": "display_data"
    },
    {
     "name": "stdout",
     "output_type": "stream",
     "text": [
      "Importance of Weather was rated as: 2\n"
     ]
    },
    {
     "data": {
      "image/png": "[encoded data removed]",
      "text/plain": [
       "<matplotlib.figure.Figure at 0x247883f0358>"
      ]
     },
     "metadata": {},
     "output_type": "display_data"
    }
   ],
   "source": [
    "for key, value in dictColNameLvl.items():\n",
    "    if value != 0:\n",
    "        print('Importance of '+ key + ' was rated as: ' + str(value))\n",
    "        getHistoHighlight(key, key, dfPitt, topPerPitt)"
   ]
  },
  {
   "cell_type": "markdown",
   "metadata": {},
   "source": [
    "The following plot shows the correlation between the features. This helps in knowing the strength and relationship between various features that the application offers. Some features are positively correlated to one another and some are negatively correlated."
   ]
  },
  {
   "cell_type": "code",
   "execution_count": 25,
   "metadata": {},
   "outputs": [
    {
     "data": {
      "image/png": "[encoded data removed]",
      "text/plain": [
       "<matplotlib.figure.Figure at 0x2e931c2d630>"
      ]
     },
     "metadata": {},
     "output_type": "display_data"
    }
   ],
   "source": [
    "getCorrPlot(dfPitt)"
   ]
  }
 ],
 "metadata": {
  "kernelspec": {
   "display_name": "Python 3",
   "language": "python",
   "name": "python3"
  },
  "language_info": {
   "codemirror_mode": {
    "name": "ipython",
    "version": 3
   },
   "file_extension": ".py",
   "mimetype": "text/x-python",
   "name": "python",
   "nbconvert_exporter": "python",
   "pygments_lexer": "ipython3",
   "version": "3.6.3"
  }
 },
 "nbformat": 4,
 "nbformat_minor": 2
}
